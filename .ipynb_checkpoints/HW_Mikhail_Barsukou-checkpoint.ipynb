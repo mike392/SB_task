{
 "cells": [
  {
   "cell_type": "code",
   "execution_count": 1,
   "metadata": {},
   "outputs": [],
   "source": [
    "import pandas"
   ]
  },
  {
   "cell_type": "code",
   "execution_count": 3,
   "metadata": {},
   "outputs": [],
   "source": [
    "usd_rate = pandas.read_excel(\"usd_rate.xlsx\")"
   ]
  },
  {
   "cell_type": "code",
   "execution_count": 5,
   "metadata": {},
   "outputs": [],
   "source": [
    "curs = usd_rate.curs"
   ]
  },
  {
   "cell_type": "code",
   "execution_count": 6,
   "metadata": {},
   "outputs": [
    {
     "data": {
      "text/plain": [
       "0      59.8961\n",
       "1      59.9533\n",
       "2      60.1614\n",
       "3      59.4978\n",
       "4      59.3700\n",
       "5      59.6067\n",
       "6      59.4015\n",
       "7      59.1830\n",
       "8      59.3521\n",
       "9      59.6697\n",
       "10     59.5034\n",
       "11     59.2168\n",
       "12     59.1489\n",
       "13     59.6356\n",
       "14     60.3196\n",
       "15     60.1618\n",
       "16     60.0851\n",
       "17     60.3099\n",
       "18     59.9858\n",
       "19     59.3137\n",
       "20     58.7121\n",
       "21     59.1933\n",
       "22     59.5129\n",
       "23     59.0235\n",
       "24     58.8457\n",
       "25     58.0619\n",
       "26     57.7388\n",
       "27     56.7719\n",
       "28     57.1507\n",
       "29     57.6342\n",
       "        ...   \n",
       "711    64.0213\n",
       "712    63.8430\n",
       "713    63.7101\n",
       "714    63.7637\n",
       "715    64.0239\n",
       "716    63.9722\n",
       "717    64.1005\n",
       "718    64.0817\n",
       "719    64.4097\n",
       "720    64.1401\n",
       "721    64.1948\n",
       "722    63.8135\n",
       "723    63.7185\n",
       "724    63.7244\n",
       "725    63.5788\n",
       "726    63.5653\n",
       "727    63.2257\n",
       "728    62.5544\n",
       "729    62.7686\n",
       "730    62.5326\n",
       "731    62.5831\n",
       "732    62.5283\n",
       "733    62.4071\n",
       "734    62.2499\n",
       "735    62.1673\n",
       "736    61.7164\n",
       "737    61.7676\n",
       "738    62.0315\n",
       "739    61.9057\n",
       "740    61.9057\n",
       "Name: curs, Length: 741, dtype: float64"
      ]
     },
     "execution_count": 6,
     "metadata": {},
     "output_type": "execute_result"
    }
   ],
   "source": [
    "curs"
   ]
  },
  {
   "cell_type": "code",
   "execution_count": 7,
   "metadata": {},
   "outputs": [],
   "source": [
    "future = 7 # Попытаемся предсказать курс на 7 дней вперед"
   ]
  },
  {
   "cell_type": "code",
   "execution_count": 8,
   "metadata": {},
   "outputs": [],
   "source": [
    "past = 14 # На основе 14 дней в прошлом"
   ]
  },
  {
   "cell_type": "code",
   "execution_count": 10,
   "metadata": {},
   "outputs": [
    {
     "data": {
      "text/plain": [
       "<matplotlib.axes._subplots.AxesSubplot at 0x7fca803c6cc0>"
      ]
     },
     "execution_count": 10,
     "metadata": {},
     "output_type": "execute_result"
    },
    {
     "data": {
      "image/png": "[encoded data removed]",
      "text/plain": [
       "<Figure size 432x288 with 1 Axes>"
      ]
     },
     "metadata": {
      "needs_background": "light"
     },
     "output_type": "display_data"
    }
   ],
   "source": [
    "curs.plot()"
   ]
  },
  {
   "cell_type": "code",
   "execution_count": 23,
   "metadata": {},
   "outputs": [
    {
     "data": {
      "text/plain": [
       "186    57.5811\n",
       "187    57.7612\n",
       "188    58.3151\n",
       "189    58.0713\n",
       "190    57.9210\n",
       "191    57.6869\n",
       "192    57.6196\n",
       "193    57.0861\n",
       "194    57.3392\n",
       "195    57.2721\n",
       "196    57.5706\n",
       "197    57.5118\n",
       "198    57.4706\n",
       "199    57.5852\n",
       "200    57.6140\n",
       "201    57.7643\n",
       "202    58.0833\n",
       "203    57.8716\n",
       "204    58.1179\n",
       "205    58.1557\n",
       "206    58.0869\n",
       "Name: curs, dtype: float64"
      ]
     },
     "execution_count": 23,
     "metadata": {},
     "output_type": "execute_result"
    }
   ],
   "source": [
    "curs[(200-past):(200+future)]"
   ]
  },
  {
   "cell_type": "code",
   "execution_count": 16,
   "metadata": {},
   "outputs": [],
   "source": [
    "start = past\n",
    "end = len(curs) - future"
   ]
  },
  {
   "cell_type": "code",
   "execution_count": 17,
   "metadata": {},
   "outputs": [
    {
     "name": "stdout",
     "output_type": "stream",
     "text": [
      "14 734 720\n"
     ]
    }
   ],
   "source": [
    "print(start, end, end-start)"
   ]
  },
  {
   "cell_type": "code",
   "execution_count": 20,
   "metadata": {},
   "outputs": [],
   "source": [
    "raw_df = []"
   ]
  },
  {
   "cell_type": "code",
   "execution_count": 24,
   "metadata": {},
   "outputs": [],
   "source": [
    "for day in range(start, end):\n",
    "    slc = curs[(day-past):(day+future)]\n",
    "    raw_df.append(list(slc))"
   ]
  },
  {
   "cell_type": "code",
   "execution_count": 26,
   "metadata": {},
   "outputs": [
    {
     "data": {
      "text/plain": [
       "['past_0',\n",
       " 'past_1',\n",
       " 'past_2',\n",
       " 'past_3',\n",
       " 'past_4',\n",
       " 'past_5',\n",
       " 'past_6',\n",
       " 'past_7',\n",
       " 'past_8',\n",
       " 'past_9',\n",
       " 'past_10',\n",
       " 'past_11',\n",
       " 'past_12',\n",
       " 'past_13']"
      ]
     },
     "execution_count": 26,
     "metadata": {},
     "output_type": "execute_result"
    }
   ],
   "source": [
    "past_columns = []\n",
    "for i in range(past):\n",
    "    past_columns.append(f\"past_{i}\")\n",
    "past_columns"
   ]
  },
  {
   "cell_type": "code",
   "execution_count": 27,
   "metadata": {},
   "outputs": [
    {
     "data": {
      "text/plain": [
       "['future_0',\n",
       " 'future_1',\n",
       " 'future_2',\n",
       " 'future_3',\n",
       " 'future_4',\n",
       " 'future_5',\n",
       " 'future_6']"
      ]
     },
     "execution_count": 27,
     "metadata": {},
     "output_type": "execute_result"
    }
   ],
   "source": [
    "future_columns = []\n",
    "for i in range(future):\n",
    "    future_columns.append(f\"future_{i}\")\n",
    "future_columns"
   ]
  },
  {
   "cell_type": "code",
   "execution_count": 30,
   "metadata": {},
   "outputs": [],
   "source": [
    "df = pandas.DataFrame(data=raw_df, columns=(past_columns+future_columns))"
   ]
  },
  {
   "cell_type": "code",
   "execution_count": 35,
   "metadata": {},
   "outputs": [],
   "source": [
    "# Обучающая выборка (тренировочная) \"Учебник\"\n",
    "X = df[past_columns][:-1]\n",
    "Y = df[future_columns][:-1]"
   ]
  },
  {
   "cell_type": "code",
   "execution_count": 37,
   "metadata": {},
   "outputs": [],
   "source": [
    "# ПРоверочная (тестовая) выборка, \"Экзамен\"\n",
    "X_test = df[past_columns][-1:]\n",
    "Y_test = df[future_columns][-1:]"
   ]
  },
  {
   "cell_type": "code",
   "execution_count": 42,
   "metadata": {},
   "outputs": [],
   "source": [
    "from sklearn.linear_model import LinearRegression"
   ]
  },
  {
   "cell_type": "code",
   "execution_count": 43,
   "metadata": {},
   "outputs": [],
   "source": [
    "lr = LinearRegression() # Настройки"
   ]
  },
  {
   "cell_type": "code",
   "execution_count": 44,
   "metadata": {},
   "outputs": [
    {
     "data": {
      "text/plain": [
       "LinearRegression(copy_X=True, fit_intercept=True, n_jobs=None,\n",
       "         normalize=False)"
      ]
     },
     "execution_count": 44,
     "metadata": {},
     "output_type": "execute_result"
    }
   ],
   "source": [
    "lr.fit(X,Y) # Обучение"
   ]
  },
  {
   "cell_type": "code",
   "execution_count": 45,
   "metadata": {},
   "outputs": [],
   "source": [
    "prediction = lr.predict(X_test) # Предсказания"
   ]
  },
  {
   "cell_type": "code",
   "execution_count": 48,
   "metadata": {},
   "outputs": [],
   "source": [
    "import matplotlib.pyplot as plt"
   ]
  },
  {
   "cell_type": "code",
   "execution_count": null,
   "metadata": {},
   "outputs": [],
   "source": []
  },
  {
   "cell_type": "code",
   "execution_count": 51,
   "metadata": {},
   "outputs": [
    {
     "data": {
      "text/plain": [
       "<matplotlib.legend.Legend at 0x7fcaa156af98>"
      ]
     },
     "execution_count": 51,
     "metadata": {},
     "output_type": "execute_result"
    },
    {
     "data": {
      "image/png": "[encoded data removed]",
      "text/plain": [
       "<Figure size 432x288 with 1 Axes>"
      ]
     },
     "metadata": {
      "needs_background": "light"
     },
     "output_type": "display_data"
    }
   ],
   "source": [
    "plt.plot(prediction[0], label=\"Prediction\")\n",
    "plt.plot(Y_test.iloc[0], label=\"Real\")\n",
    "plt.legend()"
   ]
  },
  {
   "cell_type": "code",
   "execution_count": 53,
   "metadata": {},
   "outputs": [],
   "source": [
    "from sklearn.metrics import mean_absolute_error"
   ]
  },
  {
   "cell_type": "code",
   "execution_count": 54,
   "metadata": {},
   "outputs": [
    {
     "data": {
      "text/plain": [
       "0.5799058806552476"
      ]
     },
     "execution_count": 54,
     "metadata": {},
     "output_type": "execute_result"
    }
   ],
   "source": [
    "mean_absolute_error(prediction[0], Y_test.iloc[0])"
   ]
  },
  {
   "cell_type": "code",
   "execution_count": 55,
   "metadata": {},
   "outputs": [],
   "source": [
    "from sklearn.neighbors import KNeighborsRegressor"
   ]
  },
  {
   "cell_type": "code",
   "execution_count": 62,
   "metadata": {},
   "outputs": [],
   "source": [
    "KNN = KNeighborsRegressor(n_neighbors=2)"
   ]
  },
  {
   "cell_type": "code",
   "execution_count": 63,
   "metadata": {},
   "outputs": [
    {
     "data": {
      "text/plain": [
       "KNeighborsRegressor(algorithm='auto', leaf_size=30, metric='minkowski',\n",
       "          metric_params=None, n_jobs=None, n_neighbors=2, p=2,\n",
       "          weights='uniform')"
      ]
     },
     "execution_count": 63,
     "metadata": {},
     "output_type": "execute_result"
    }
   ],
   "source": [
    "KNN.fit(X,Y)"
   ]
  },
  {
   "cell_type": "code",
   "execution_count": 64,
   "metadata": {},
   "outputs": [
    {
     "name": "stdout",
     "output_type": "stream",
     "text": [
      "MAE = 0.2128142857142856\n"
     ]
    },
    {
     "data": {
      "image/png": "[encoded data removed]",
      "text/plain": [
       "<Figure size 432x288 with 1 Axes>"
      ]
     },
     "metadata": {
      "needs_background": "light"
     },
     "output_type": "display_data"
    }
   ],
   "source": [
    "prediction = KNN.predict(X_test) # Предсказания\n",
    "plt.plot(prediction[0], label=\"Prediction\") # График\n",
    "plt.plot(Y_test.iloc[0], label=\"Real\")\n",
    "plt.legend()\n",
    "mae = mean_absolute_error(prediction[0], Y_test.iloc[0])\n",
    "print(f\"MAE = {mae}\")"
   ]
  },
  {
   "cell_type": "code",
   "execution_count": 65,
   "metadata": {},
   "outputs": [],
   "source": [
    "from sklearn.neural_network import MLPRegressor"
   ]
  },
  {
   "cell_type": "code",
   "execution_count": 96,
   "metadata": {},
   "outputs": [],
   "source": [
    "MLP = MLPRegressor(max_iter=500, hidden_layer_sizes=(200,200), random_state=42)"
   ]
  },
  {
   "cell_type": "code",
   "execution_count": 99,
   "metadata": {},
   "outputs": [],
   "source": [
    "x = MLP.fit(X,Y)"
   ]
  },
  {
   "cell_type": "code",
   "execution_count": 100,
   "metadata": {},
   "outputs": [
    {
     "name": "stdout",
     "output_type": "stream",
     "text": [
      "MAE = 0.9246236245683923\n"
     ]
    },
    {
     "data": {
      "image/png": "[encoded data removed]",
      "text/plain": [
       "<Figure size 432x288 with 1 Axes>"
      ]
     },
     "metadata": {
      "needs_background": "light"
     },
     "output_type": "display_data"
    }
   ],
   "source": [
    "prediction = MLP.predict(X_test) # Предсказания\n",
    "plt.plot(prediction[0], label=\"Prediction\") # График\n",
    "plt.plot(Y_test.iloc[0], label=\"Real\")\n",
    "plt.legend()\n",
    "mae = mean_absolute_error(prediction[0], Y_test.iloc[0])\n",
    "print(f\"MAE = {mae}\")"
   ]
  },
  {
   "cell_type": "code",
   "execution_count": 101,
   "metadata": {},
   "outputs": [],
   "source": [
    "# Использовать датасет из эфира (будет выложен в ТГ)\n",
    "# Использовать random_state=42\n",
    "# 1. Документция по Sklearn https://scikit-learn.org/stable/modules/classes.html\n",
    "# 2. Подобрать параметры MLPRegressor, добиться MAE (mean_absolute_error) меньше чем в эфире 0.924\n",
    "# 3. Выбрать из sklearn 4 (четыре) других модели регресии \n",
    "# (...Regressor, модели которые мы еще НЕ испольовали), \n",
    "# и добиться на них наименьшей ошибки. \n",
    "\n",
    "# Критерием оценки ДЗ НЕ ЯВЛЯЕТСЯ самая минимальная ошибки.\n",
    "# 4. Оформить свой результат в виде HTML файла (Меню File -> Download as -> HTML), \n",
    "# в файле должно быть\n",
    "# — Комментарии к коду, что вы делаете в этом коде и зачем\n",
    "# — Графики (https://matplotlib.org/gallery/index.html)\n",
    "# — В отчете должны быть выводы\n",
    "\n",
    "# Дз нужно прислать до 18:00 МСК завтра(ВС), что бы мы успели все проверить\n",
    "# Ссылка куда прислать будет в ТГ"
   ]
  },
  {
   "cell_type": "code",
   "execution_count": null,
   "metadata": {},
   "outputs": [],
   "source": []
  }
 ],
 "metadata": {
  "kernelspec": {
   "display_name": "Python 3",
   "language": "python",
   "name": "python3"
  },
  "language_info": {
   "codemirror_mode": {
    "name": "ipython",
    "version": 3
   },
   "file_extension": ".py",
   "mimetype": "text/x-python",
   "name": "python",
   "nbconvert_exporter": "python",
   "pygments_lexer": "ipython3",
   "version": "3.7.7"
  }
 },
 "nbformat": 4,
 "nbformat_minor": 2
}
