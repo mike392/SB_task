{
 "cells": [
  {
   "cell_type": "code",
   "execution_count": 73,
   "metadata": {},
   "outputs": [],
   "source": [
    "import pandas\n",
    "import seaborn as sns\n",
    "from sklearn.model_selection import GridSearchCV\n",
    "from sklearn.metrics import mean_absolute_error\n",
    "from sklearn.neighbors import KNeighborsRegressor\n",
    "from sklearn.neural_network import MLPRegressor\n",
    "from sklearn.linear_model import LinearRegression\n",
    "from sklearn.ensemble import BaggingRegressor, GradientBoostingRegressor, ExtraTreesRegressor, RandomForestRegressor, AdaBoostRegressor\n",
    "import matplotlib.pyplot as plt\n",
    "import warnings\n",
    "from datetime import datetime"
   ]
  },
  {
   "cell_type": "code",
   "execution_count": 2,
   "metadata": {},
   "outputs": [],
   "source": [
    "usd_rate = pandas.read_excel(\"usd_rate.xlsx\")\n",
    "curs = usd_rate.curs\n",
    "future = 7 # Попытаемся предсказать курс на 7 дней вперед\n",
    "past = 14 # На основе 14 дней в прошлом\n",
    "start = past\n",
    "end = len(curs) - future"
   ]
  },
  {
   "cell_type": "code",
   "execution_count": 3,
   "metadata": {},
   "outputs": [],
   "source": [
    "raw_df = [list(curs[(day-past):(day+future)]) for day in range(start, end)]"
   ]
  },
  {
   "cell_type": "code",
   "execution_count": 4,
   "metadata": {},
   "outputs": [
    {
     "data": {
      "text/plain": [
       "['past_0',\n",
       " 'past_1',\n",
       " 'past_2',\n",
       " 'past_3',\n",
       " 'past_4',\n",
       " 'past_5',\n",
       " 'past_6',\n",
       " 'past_7',\n",
       " 'past_8',\n",
       " 'past_9',\n",
       " 'past_10',\n",
       " 'past_11',\n",
       " 'past_12',\n",
       " 'past_13']"
      ]
     },
     "execution_count": 4,
     "metadata": {},
     "output_type": "execute_result"
    }
   ],
   "source": [
    "past_columns = [f\"past_{i}\" for i in range(past)]\n",
    "past_columns"
   ]
  },
  {
   "cell_type": "code",
   "execution_count": 5,
   "metadata": {},
   "outputs": [
    {
     "data": {
      "text/plain": [
       "['future_0',\n",
       " 'future_1',\n",
       " 'future_2',\n",
       " 'future_3',\n",
       " 'future_4',\n",
       " 'future_5',\n",
       " 'future_6']"
      ]
     },
     "execution_count": 5,
     "metadata": {},
     "output_type": "execute_result"
    }
   ],
   "source": [
    "future_columns = [f\"future_{i}\" for i in range(future)]\n",
    "future_columns"
   ]
  },
  {
   "cell_type": "code",
   "execution_count": 6,
   "metadata": {},
   "outputs": [],
   "source": [
    "total_columns = past_columns + future_columns\n",
    "df = pandas.DataFrame(data=raw_df, columns=total_columns)"
   ]
  },
  {
   "cell_type": "code",
   "execution_count": 7,
   "metadata": {},
   "outputs": [
    {
     "data": {
      "text/plain": [
       "<matplotlib.axes._subplots.AxesSubplot at 0x106457c10>"
      ]
     },
     "execution_count": 7,
     "metadata": {},
     "output_type": "execute_result"
    },
    {
     "data": {
      "image/png": "[encoded data removed]",
      "text/plain": [
       "<Figure size 432x288 with 2 Axes>"
      ]
     },
     "metadata": {
      "needs_background": "light"
     },
     "output_type": "display_data"
    }
   ],
   "source": [
    "# для анализа надежности и доверительности модели следует проверить уровень корреляции между составляющими датасета.\n",
    "# С учетом того, что автомасштабирование коэффициентов корреляции находитcz в пределах 1 - 0.9, то это означает, что корреляция достатолчно высокая корреляция между величинами\n",
    "# Как правило из модели features с большой корреляцией между собой надо убирать - \n",
    "# соответственно надежность прогнозов при такой высокой корреляции будет крайне низкой\n",
    "sns.heatmap(df.corr())"
   ]
  },
  {
   "cell_type": "code",
   "execution_count": 8,
   "metadata": {},
   "outputs": [],
   "source": [
    "# Обучающая выборка (тренировочная) \"Учебник\"\n",
    "X = df[past_columns][:-1]\n",
    "Y = df[future_columns][:-1]"
   ]
  },
  {
   "cell_type": "code",
   "execution_count": 9,
   "metadata": {},
   "outputs": [],
   "source": [
    "# Проверочная (тестовая) выборка, \"Экзамен\"\n",
    "X_test = df[past_columns][-1:]\n",
    "Y_test = df[future_columns][-1:]"
   ]
  },
  {
   "cell_type": "code",
   "execution_count": null,
   "metadata": {},
   "outputs": [],
   "source": [
    "lr = LinearRegression() # Настройки\n",
    "lr.fit(X,Y) # Обучение\n",
    "prediction = lr.predict(X_test) # Предсказания\n",
    "plt.plot(prediction[0], label=\"Prediction\")\n",
    "plt.plot(Y_test.iloc[0], label=\"Real\")\n",
    "plt.legend()\n",
    "mean_absolute_error(prediction[0], Y_test.iloc[0])"
   ]
  },
  {
   "cell_type": "code",
   "execution_count": null,
   "metadata": {},
   "outputs": [],
   "source": [
    "KNN = KNeighborsRegressor(n_neighbors=2)\n",
    "KNN.fit(X,Y)\n",
    "prediction = KNN.predict(X_test) # Предсказания\n",
    "plt.plot(prediction[0], label=\"Prediction\") # График\n",
    "plt.plot(Y_test.iloc[0], label=\"Real\")\n",
    "plt.legend()\n",
    "mae = mean_absolute_error(prediction[0], Y_test.iloc[0])\n",
    "print(f\"MAE = {mae}\")"
   ]
  },
  {
   "cell_type": "code",
   "execution_count": null,
   "metadata": {},
   "outputs": [],
   "source": [
    "# Использовать датасет из эфира (будет выложен в ТГ)\n",
    "# Использовать random_state=42\n",
    "# 1. Документция по Sklearn https://scikit-learn.org/stable/modules/classes.html\n",
    "# 2. Подобрать параметры MLPRegressor, добиться MAE (mean_absolute_error) меньше чем в эфире 0.924\n",
    "# 3. Выбрать из sklearn 4 (четыре) других модели регресии \n",
    "# (...Regressor, модели которые мы еще НЕ испольовали), \n",
    "# и добиться на них наименьшей ошибки. \n",
    "\n",
    "# Критерием оценки ДЗ НЕ ЯВЛЯЕТСЯ самая минимальная ошибки.\n",
    "# 4. Оформить свой результат в виде HTML файла (Меню File -> Download as -> HTML), \n",
    "# в файле должно быть\n",
    "# — Комментарии к коду, что вы делаете в этом коде и зачем\n",
    "# — Графики (https://matplotlib.org/gallery/index.html)\n",
    "# — В отчете должны быть выводы\n",
    "\n",
    "# Дз нужно прислать до 18:00 МСК завтра(ВС), что бы мы успели все проверить\n",
    "# Ссылка куда прислать будет в ТГ"
   ]
  },
  {
   "cell_type": "code",
   "execution_count": 10,
   "metadata": {},
   "outputs": [],
   "source": [
    "mlpr = MLPRegressor(random_state=42)"
   ]
  },
  {
   "cell_type": "code",
   "execution_count": 12,
   "metadata": {},
   "outputs": [
    {
     "name": "stdout",
     "output_type": "stream",
     "text": [
      "fitting time - 181 seconds\n",
      "Best: 0.593266 using {'activation': 'relu', 'hidden_layer_sizes': (270, 270), 'max_iter': 200, 'solver': 'adam'}\n",
      "-12.100657 (9.356956) with: {'activation': 'tanh', 'hidden_layer_sizes': (200, 200), 'max_iter': 100, 'solver': 'sgd'}\n",
      "-87.014663 (81.940247) with: {'activation': 'tanh', 'hidden_layer_sizes': (200, 200), 'max_iter': 100, 'solver': 'adam'}\n",
      "-12.100657 (9.356956) with: {'activation': 'tanh', 'hidden_layer_sizes': (200, 200), 'max_iter': 200, 'solver': 'sgd'}\n",
      "-11.110267 (7.756278) with: {'activation': 'tanh', 'hidden_layer_sizes': (200, 200), 'max_iter': 200, 'solver': 'adam'}\n",
      "-12.065151 (9.389479) with: {'activation': 'tanh', 'hidden_layer_sizes': (210, 210), 'max_iter': 100, 'solver': 'sgd'}\n",
      "-69.200845 (69.073116) with: {'activation': 'tanh', 'hidden_layer_sizes': (210, 210), 'max_iter': 100, 'solver': 'adam'}\n",
      "-12.065151 (9.389479) with: {'activation': 'tanh', 'hidden_layer_sizes': (210, 210), 'max_iter': 200, 'solver': 'sgd'}\n",
      "-11.172743 (7.607641) with: {'activation': 'tanh', 'hidden_layer_sizes': (210, 210), 'max_iter': 200, 'solver': 'adam'}\n",
      "-12.410007 (9.287661) with: {'activation': 'tanh', 'hidden_layer_sizes': (220, 220), 'max_iter': 100, 'solver': 'sgd'}\n",
      "-54.925771 (58.405653) with: {'activation': 'tanh', 'hidden_layer_sizes': (220, 220), 'max_iter': 100, 'solver': 'adam'}\n",
      "-12.410007 (9.287661) with: {'activation': 'tanh', 'hidden_layer_sizes': (220, 220), 'max_iter': 200, 'solver': 'sgd'}\n",
      "-11.305960 (7.854807) with: {'activation': 'tanh', 'hidden_layer_sizes': (220, 220), 'max_iter': 200, 'solver': 'adam'}\n",
      "-11.088636 (9.404111) with: {'activation': 'tanh', 'hidden_layer_sizes': (230, 230), 'max_iter': 100, 'solver': 'sgd'}\n",
      "-49.363549 (54.131374) with: {'activation': 'tanh', 'hidden_layer_sizes': (230, 230), 'max_iter': 100, 'solver': 'adam'}\n",
      "-11.088636 (9.404111) with: {'activation': 'tanh', 'hidden_layer_sizes': (230, 230), 'max_iter': 200, 'solver': 'sgd'}\n",
      "-11.441132 (8.083415) with: {'activation': 'tanh', 'hidden_layer_sizes': (230, 230), 'max_iter': 200, 'solver': 'adam'}\n",
      "-12.357896 (9.567033) with: {'activation': 'tanh', 'hidden_layer_sizes': (240, 240), 'max_iter': 100, 'solver': 'sgd'}\n",
      "-38.167248 (44.714049) with: {'activation': 'tanh', 'hidden_layer_sizes': (240, 240), 'max_iter': 100, 'solver': 'adam'}\n",
      "-12.357896 (9.567033) with: {'activation': 'tanh', 'hidden_layer_sizes': (240, 240), 'max_iter': 200, 'solver': 'sgd'}\n",
      "-11.623214 (8.479458) with: {'activation': 'tanh', 'hidden_layer_sizes': (240, 240), 'max_iter': 200, 'solver': 'adam'}\n",
      "-11.921373 (9.663699) with: {'activation': 'tanh', 'hidden_layer_sizes': (250, 250), 'max_iter': 100, 'solver': 'sgd'}\n",
      "-31.933521 (39.107693) with: {'activation': 'tanh', 'hidden_layer_sizes': (250, 250), 'max_iter': 100, 'solver': 'adam'}\n",
      "-11.921373 (9.663699) with: {'activation': 'tanh', 'hidden_layer_sizes': (250, 250), 'max_iter': 200, 'solver': 'sgd'}\n",
      "-11.687632 (8.709990) with: {'activation': 'tanh', 'hidden_layer_sizes': (250, 250), 'max_iter': 200, 'solver': 'adam'}\n",
      "-13.032925 (9.795713) with: {'activation': 'tanh', 'hidden_layer_sizes': (260, 260), 'max_iter': 100, 'solver': 'sgd'}\n",
      "-25.716169 (32.710637) with: {'activation': 'tanh', 'hidden_layer_sizes': (260, 260), 'max_iter': 100, 'solver': 'adam'}\n",
      "-13.032925 (9.795713) with: {'activation': 'tanh', 'hidden_layer_sizes': (260, 260), 'max_iter': 200, 'solver': 'sgd'}\n",
      "-11.793439 (8.927583) with: {'activation': 'tanh', 'hidden_layer_sizes': (260, 260), 'max_iter': 200, 'solver': 'adam'}\n",
      "-12.734457 (9.548187) with: {'activation': 'tanh', 'hidden_layer_sizes': (270, 270), 'max_iter': 100, 'solver': 'sgd'}\n",
      "-21.742841 (28.378117) with: {'activation': 'tanh', 'hidden_layer_sizes': (270, 270), 'max_iter': 100, 'solver': 'adam'}\n",
      "-12.734457 (9.548187) with: {'activation': 'tanh', 'hidden_layer_sizes': (270, 270), 'max_iter': 200, 'solver': 'sgd'}\n",
      "-11.909050 (9.124724) with: {'activation': 'tanh', 'hidden_layer_sizes': (270, 270), 'max_iter': 200, 'solver': 'adam'}\n",
      "-12.266556 (9.278411) with: {'activation': 'tanh', 'hidden_layer_sizes': (280, 280), 'max_iter': 100, 'solver': 'sgd'}\n",
      "-18.767182 (24.546484) with: {'activation': 'tanh', 'hidden_layer_sizes': (280, 280), 'max_iter': 100, 'solver': 'adam'}\n",
      "-12.266556 (9.278411) with: {'activation': 'tanh', 'hidden_layer_sizes': (280, 280), 'max_iter': 200, 'solver': 'sgd'}\n",
      "-11.897540 (9.156060) with: {'activation': 'tanh', 'hidden_layer_sizes': (280, 280), 'max_iter': 200, 'solver': 'adam'}\n",
      "-12.487961 (9.951889) with: {'activation': 'tanh', 'hidden_layer_sizes': (290, 290), 'max_iter': 100, 'solver': 'sgd'}\n",
      "-16.061684 (20.528581) with: {'activation': 'tanh', 'hidden_layer_sizes': (290, 290), 'max_iter': 100, 'solver': 'adam'}\n",
      "-12.487961 (9.951889) with: {'activation': 'tanh', 'hidden_layer_sizes': (290, 290), 'max_iter': 200, 'solver': 'sgd'}\n",
      "-11.894980 (9.201910) with: {'activation': 'tanh', 'hidden_layer_sizes': (290, 290), 'max_iter': 200, 'solver': 'adam'}\n",
      "-12.291883 (9.794489) with: {'activation': 'tanh', 'hidden_layer_sizes': (300, 300), 'max_iter': 100, 'solver': 'sgd'}\n",
      "-14.596715 (18.015859) with: {'activation': 'tanh', 'hidden_layer_sizes': (300, 300), 'max_iter': 100, 'solver': 'adam'}\n",
      "-12.291883 (9.794489) with: {'activation': 'tanh', 'hidden_layer_sizes': (300, 300), 'max_iter': 200, 'solver': 'sgd'}\n",
      "-11.976100 (9.283207) with: {'activation': 'tanh', 'hidden_layer_sizes': (300, 300), 'max_iter': 200, 'solver': 'adam'}\n",
      "-145050196134105176029437027259834959925967947630468839065549760965537100969170154642276077302482489922379247759273407976529245640886655760837797359140187393860667267088384.000000 (inf) with: {'activation': 'relu', 'hidden_layer_sizes': (200, 200), 'max_iter': 100, 'solver': 'sgd'}\n",
      "0.441747 (0.280808) with: {'activation': 'relu', 'hidden_layer_sizes': (200, 200), 'max_iter': 100, 'solver': 'adam'}\n",
      "-145050196134105176029437027259834959925967947630468839065549760965537100969170154642276077302482489922379247759273407976529245640886655760837797359140187393860667267088384.000000 (inf) with: {'activation': 'relu', 'hidden_layer_sizes': (200, 200), 'max_iter': 200, 'solver': 'sgd'}\n",
      "0.524244 (0.246087) with: {'activation': 'relu', 'hidden_layer_sizes': (200, 200), 'max_iter': 200, 'solver': 'adam'}\n",
      "-551615632816099704159862784.000000 (737279718452480501440577536.000000) with: {'activation': 'relu', 'hidden_layer_sizes': (210, 210), 'max_iter': 100, 'solver': 'sgd'}\n",
      "0.374156 (0.346908) with: {'activation': 'relu', 'hidden_layer_sizes': (210, 210), 'max_iter': 100, 'solver': 'adam'}\n",
      "-551615632816099704159862784.000000 (737279718452480501440577536.000000) with: {'activation': 'relu', 'hidden_layer_sizes': (210, 210), 'max_iter': 200, 'solver': 'sgd'}\n",
      "0.447748 (0.286641) with: {'activation': 'relu', 'hidden_layer_sizes': (210, 210), 'max_iter': 200, 'solver': 'adam'}\n",
      "-2808837497709160604539874727826674634798330958555093767383805386416137177359351696968670602245487722496.000000 (3972296083762402698082584991478812760580948366322249081717649076299882860179317484516823109660795994112.000000) with: {'activation': 'relu', 'hidden_layer_sizes': (220, 220), 'max_iter': 100, 'solver': 'sgd'}\n",
      "0.506253 (0.252072) with: {'activation': 'relu', 'hidden_layer_sizes': (220, 220), 'max_iter': 100, 'solver': 'adam'}\n",
      "-2808837497709160604539874727826674634798330958555093767383805386416137177359351696968670602245487722496.000000 (3972296083762402698082584991478812760580948366322249081717649076299882860179317484516823109660795994112.000000) with: {'activation': 'relu', 'hidden_layer_sizes': (220, 220), 'max_iter': 200, 'solver': 'sgd'}\n",
      "0.522691 (0.239685) with: {'activation': 'relu', 'hidden_layer_sizes': (220, 220), 'max_iter': 200, 'solver': 'adam'}\n",
      "-2674385049066915005658978716352024757647166028579935133946950201320725581518695008843807651111157016007370712809849433865130536512998029650186097991385874432.000000 (inf) with: {'activation': 'relu', 'hidden_layer_sizes': (230, 230), 'max_iter': 100, 'solver': 'sgd'}\n",
      "0.406660 (0.311877) with: {'activation': 'relu', 'hidden_layer_sizes': (230, 230), 'max_iter': 100, 'solver': 'adam'}\n",
      "-2674385049066915005658978716352024757647166028579935133946950201320725581518695008843807651111157016007370712809849433865130536512998029650186097991385874432.000000 (inf) with: {'activation': 'relu', 'hidden_layer_sizes': (230, 230), 'max_iter': 200, 'solver': 'sgd'}\n",
      "0.529689 (0.223012) with: {'activation': 'relu', 'hidden_layer_sizes': (230, 230), 'max_iter': 200, 'solver': 'adam'}\n",
      "-23549509140479855809484296977906003804013239582876448164838954748714796759078513154457735567346222923790057426377557635044120743599802426966115229587687875226487300607180800.000000 (inf) with: {'activation': 'relu', 'hidden_layer_sizes': (240, 240), 'max_iter': 100, 'solver': 'sgd'}\n",
      "0.481711 (0.260030) with: {'activation': 'relu', 'hidden_layer_sizes': (240, 240), 'max_iter': 100, 'solver': 'adam'}\n",
      "-23549509140479855809484296977906003804013239582876448164838954748714796759078513154457735567346222923790057426377557635044120743599802426966115229587687875226487300607180800.000000 (inf) with: {'activation': 'relu', 'hidden_layer_sizes': (240, 240), 'max_iter': 200, 'solver': 'sgd'}\n",
      "0.579949 (0.198116) with: {'activation': 'relu', 'hidden_layer_sizes': (240, 240), 'max_iter': 200, 'solver': 'adam'}\n",
      "-15151915951432007837024077748451255424417727816138038878572069740493282535981907693903604397491963257579672693545381173894877007555237809182330466445245049470976.000000 (inf) with: {'activation': 'relu', 'hidden_layer_sizes': (250, 250), 'max_iter': 100, 'solver': 'sgd'}\n",
      "0.528986 (0.240259) with: {'activation': 'relu', 'hidden_layer_sizes': (250, 250), 'max_iter': 100, 'solver': 'adam'}\n",
      "-15151915951432007837024077748451255424417727816138038878572069740493282535981907693903604397491963257579672693545381173894877007555237809182330466445245049470976.000000 (inf) with: {'activation': 'relu', 'hidden_layer_sizes': (250, 250), 'max_iter': 200, 'solver': 'sgd'}\n",
      "0.586369 (0.233653) with: {'activation': 'relu', 'hidden_layer_sizes': (250, 250), 'max_iter': 200, 'solver': 'adam'}\n",
      "-188094893648572359071268815275782708823349343750002980086498415080479671862524604093301513935314544701898629826184835852888033884206028442755399680.000000 (266001087057903093352071845262322461927183119355438124309871046788564516221202815927695481140179314902929327213507475508350171711345407030139551744.000000) with: {'activation': 'relu', 'hidden_layer_sizes': (260, 260), 'max_iter': 100, 'solver': 'sgd'}\n",
      "0.536423 (0.229691) with: {'activation': 'relu', 'hidden_layer_sizes': (260, 260), 'max_iter': 100, 'solver': 'adam'}\n",
      "-188094893648572359071268815275782708823349343750002980086498415080479671862524604093301513935314544701898629826184835852888033884206028442755399680.000000 (266001087057903093352071845262322461927183119355438124309871046788564516221202815927695481140179314902929327213507475508350171711345407030139551744.000000) with: {'activation': 'relu', 'hidden_layer_sizes': (260, 260), 'max_iter': 200, 'solver': 'sgd'}\n",
      "0.555535 (0.243782) with: {'activation': 'relu', 'hidden_layer_sizes': (260, 260), 'max_iter': 200, 'solver': 'adam'}\n",
      "-12144734466220162242508342610784714185104522812587517074642761229877065601488874865567471735462313996587005449134836831161764858626596188237578796299126459865923321856.000000 (inf) with: {'activation': 'relu', 'hidden_layer_sizes': (270, 270), 'max_iter': 100, 'solver': 'sgd'}\n",
      "0.401042 (0.362371) with: {'activation': 'relu', 'hidden_layer_sizes': (270, 270), 'max_iter': 100, 'solver': 'adam'}\n",
      "-12144734466220162242508342610784714185104522812587517074642761229877065601488874865567471735462313996587005449134836831161764858626596188237578796299126459865923321856.000000 (inf) with: {'activation': 'relu', 'hidden_layer_sizes': (270, 270), 'max_iter': 200, 'solver': 'sgd'}\n",
      "0.593266 (0.204206) with: {'activation': 'relu', 'hidden_layer_sizes': (270, 270), 'max_iter': 200, 'solver': 'adam'}\n",
      "-2698872148781092244851523584.000000 (3567488685064598036477378560.000000) with: {'activation': 'relu', 'hidden_layer_sizes': (280, 280), 'max_iter': 100, 'solver': 'sgd'}\n",
      "0.435671 (0.292464) with: {'activation': 'relu', 'hidden_layer_sizes': (280, 280), 'max_iter': 100, 'solver': 'adam'}\n",
      "-2698872148781092244851523584.000000 (3567488685064598036477378560.000000) with: {'activation': 'relu', 'hidden_layer_sizes': (280, 280), 'max_iter': 200, 'solver': 'sgd'}\n",
      "0.409472 (0.357530) with: {'activation': 'relu', 'hidden_layer_sizes': (280, 280), 'max_iter': 200, 'solver': 'adam'}\n",
      "-14382444835692178174754953583832345789294116496193609576331182818064386564223007942081043601064874126807771128453485193102817900668443377860704953349090173351903641993216.000000 (inf) with: {'activation': 'relu', 'hidden_layer_sizes': (290, 290), 'max_iter': 100, 'solver': 'sgd'}\n",
      "0.453315 (0.270248) with: {'activation': 'relu', 'hidden_layer_sizes': (290, 290), 'max_iter': 100, 'solver': 'adam'}\n",
      "-14382444835692178174754953583832345789294116496193609576331182818064386564223007942081043601064874126807771128453485193102817900668443377860704953349090173351903641993216.000000 (inf) with: {'activation': 'relu', 'hidden_layer_sizes': (290, 290), 'max_iter': 200, 'solver': 'sgd'}\n",
      "0.519091 (0.246575) with: {'activation': 'relu', 'hidden_layer_sizes': (290, 290), 'max_iter': 200, 'solver': 'adam'}\n",
      "-505050557161350740288995328.000000 (683466337875284462808334336.000000) with: {'activation': 'relu', 'hidden_layer_sizes': (300, 300), 'max_iter': 100, 'solver': 'sgd'}\n",
      "0.471512 (0.274914) with: {'activation': 'relu', 'hidden_layer_sizes': (300, 300), 'max_iter': 100, 'solver': 'adam'}\n",
      "-505050557161350740288995328.000000 (683466337875284462808334336.000000) with: {'activation': 'relu', 'hidden_layer_sizes': (300, 300), 'max_iter': 200, 'solver': 'sgd'}\n",
      "0.478621 (0.294291) with: {'activation': 'relu', 'hidden_layer_sizes': (300, 300), 'max_iter': 200, 'solver': 'adam'}\n",
      "MAE = 0.9297119856297655\n"
     ]
    },
    {
     "data": {
      "image/png": "[encoded data removed]",
      "text/plain": [
       "<Figure size 432x288 with 1 Axes>"
      ]
     },
     "metadata": {
      "needs_background": "light"
     },
     "output_type": "display_data"
    }
   ],
   "source": [
    "# как правило очень большое влияние в моделях на основе нейростей играют \n",
    "# - функции активации \n",
    "# - оптимизаторы (solver)\n",
    "# - конфигурация скрытых слоёв\n",
    "# - количество итераций для оптимизатора для достижения сходимости \n",
    "# (как правило, если модель не сходится быстро, то выбирать слишком большое число max_iter смысла нет)\n",
    "params = dict(\n",
    "    activation= [\"tanh\", \"relu\"],\n",
    "    hidden_layer_sizes= [(x, x) for x in range(200, 301, 10)],\n",
    "    max_iter= [100, 200],\n",
    "    solver= [\"sgd\", \"adam\"]\n",
    ")\n",
    "\n",
    "# с помощью автоматизированного поиска найдем оптимальную конфигурацию для предиктора\n",
    "grid = GridSearchCV(estimator=mlpr, param_grid=params, cv=3, verbose=0)\n",
    "# посмотреть на время, которое потребуется для поиска оптимальных параметров\n",
    "d1 = datetime.now()\n",
    "# сделаем поиск оптимальной комбинации без вывода warning сообщений \n",
    "with warnings.catch_warnings():\n",
    "    # ignore all caught warnings\n",
    "    warnings.filterwarnings(\"ignore\")\n",
    "    grid_result = grid.fit(X, Y)\n",
    "\n",
    "d2 = datetime.now()\n",
    "delta = d2 - d1\n",
    "print(\"fitting time - {} seconds\".format(delta.seconds))\n",
    "\n",
    "# вывод наиболее удачной комбинации параметров\n",
    "print(\"Best: %f using %s\" % (grid_result.best_score_, grid_result.best_params_))\n",
    "means = grid_result.cv_results_['mean_test_score']\n",
    "stds = grid_result.cv_results_['std_test_score']\n",
    "params = grid_result.cv_results_['params']\n",
    "for mean, stdev, param in zip(means, stds, params):\n",
    "    print(\"%f (%f) with: %r\" % (mean, stdev, param))\n",
    "    \n",
    "prediction = grid_result.predict(X_test) # Предсказания\n",
    "plt.plot(prediction[0], label=\"Prediction\") # График\n",
    "plt.plot(Y_test.iloc[0], label=\"Real\")\n",
    "plt.legend()\n",
    "mae = mean_absolute_error(prediction[0], Y_test.iloc[0])\n",
    "print(f\"MAE = {mae}\")"
   ]
  },
  {
   "cell_type": "code",
   "execution_count": 13,
   "metadata": {},
   "outputs": [],
   "source": [
    "bagging_regressor = BaggingRegressor(random_state=42)"
   ]
  },
  {
   "cell_type": "code",
   "execution_count": 14,
   "metadata": {},
   "outputs": [
    {
     "name": "stdout",
     "output_type": "stream",
     "text": [
      "fitting time - 2 seconds\n",
      "Best: -1.114529 using {'n_estimators': 6}\n",
      "-2.496228 (2.616552) with: {'n_estimators': 1}\n",
      "-1.606326 (1.792405) with: {'n_estimators': 2}\n",
      "-1.610025 (1.889809) with: {'n_estimators': 3}\n",
      "-1.263998 (1.945930) with: {'n_estimators': 4}\n",
      "-1.247677 (1.985253) with: {'n_estimators': 5}\n",
      "-1.114529 (2.010378) with: {'n_estimators': 6}\n",
      "-1.133226 (1.946138) with: {'n_estimators': 7}\n",
      "-1.163463 (1.974070) with: {'n_estimators': 8}\n",
      "-1.158395 (1.905788) with: {'n_estimators': 9}\n",
      "-1.213643 (1.916373) with: {'n_estimators': 10}\n",
      "-1.221383 (1.913569) with: {'n_estimators': 11}\n",
      "-1.222537 (1.918916) with: {'n_estimators': 12}\n",
      "-1.246034 (1.916825) with: {'n_estimators': 13}\n",
      "-1.289861 (1.941150) with: {'n_estimators': 14}\n",
      "-1.264073 (1.889933) with: {'n_estimators': 15}\n",
      "-1.265044 (1.867415) with: {'n_estimators': 16}\n",
      "-1.272611 (1.865908) with: {'n_estimators': 17}\n",
      "-1.315660 (1.896738) with: {'n_estimators': 18}\n",
      "-1.283364 (1.844521) with: {'n_estimators': 19}\n",
      "MAE = 0.8791904761904722\n"
     ]
    },
    {
     "data": {
      "image/png": "[encoded data removed]",
      "text/plain": [
       "<Figure size 432x288 with 1 Axes>"
      ]
     },
     "metadata": {
      "needs_background": "light"
     },
     "output_type": "display_data"
    }
   ],
   "source": [
    "# попробуем оптимизировать количество эстиматоров \n",
    "params = dict(\n",
    "    n_estimators=[x for x in range(1,20)]\n",
    ")\n",
    "\n",
    "# с помощью автоматизированного поиска найдем оптимальную конфигурацию для предиктора\n",
    "grid = GridSearchCV(estimator=bagging_regressor, param_grid=params, cv=3, verbose=0)\n",
    "# посмотреть на время, которое потребуется для поиска оптимальных параметров\n",
    "d1 = datetime.now()\n",
    "with warnings.catch_warnings():\n",
    "    # ignore all caught warnings\n",
    "    warnings.filterwarnings(\"ignore\")\n",
    "    grid_result = grid.fit(X, Y)\n",
    "\n",
    "d2 = datetime.now()\n",
    "delta = d2 - d1\n",
    "print(\"fitting time - {} seconds\".format(delta.seconds))\n",
    "\n",
    "# вывод наиболее удачной комбинации параметров\n",
    "print(\"Best: %f using %s\" % (grid_result.best_score_, grid_result.best_params_))\n",
    "means = grid_result.cv_results_['mean_test_score']\n",
    "stds = grid_result.cv_results_['std_test_score']\n",
    "params = grid_result.cv_results_['params']\n",
    "for mean, stdev, param in zip(means, stds, params):\n",
    "    print(\"%f (%f) with: %r\" % (mean, stdev, param))\n",
    "    \n",
    "prediction = grid_result.predict(X_test) # Предсказания\n",
    "plt.plot(prediction[0], label=\"Prediction\") # График\n",
    "plt.plot(Y_test.iloc[0], label=\"Real\")\n",
    "plt.legend()\n",
    "mae = mean_absolute_error(prediction[0], Y_test.iloc[0])\n",
    "print(f\"MAE = {mae}\")"
   ]
  },
  {
   "cell_type": "code",
   "execution_count": 15,
   "metadata": {},
   "outputs": [],
   "source": [
    "rf_regressor = RandomForestRegressor(random_state=42)"
   ]
  },
  {
   "cell_type": "code",
   "execution_count": 16,
   "metadata": {},
   "outputs": [
    {
     "name": "stdout",
     "output_type": "stream",
     "text": [
      "fitting time - 2 seconds\n",
      "Best: -1.057982 using {'n_estimators': 6}\n",
      "-2.470393 (2.613582) with: {'n_estimators': 1}\n",
      "-1.557881 (1.747415) with: {'n_estimators': 2}\n",
      "-1.352147 (1.760845) with: {'n_estimators': 3}\n",
      "-1.070908 (1.825430) with: {'n_estimators': 4}\n",
      "-1.125626 (1.894833) with: {'n_estimators': 5}\n",
      "-1.057982 (1.998455) with: {'n_estimators': 6}\n",
      "-1.095672 (1.964332) with: {'n_estimators': 7}\n",
      "-1.106696 (1.979729) with: {'n_estimators': 8}\n",
      "-1.116797 (1.909194) with: {'n_estimators': 9}\n",
      "-1.194881 (1.940639) with: {'n_estimators': 10}\n",
      "-1.194230 (1.924535) with: {'n_estimators': 11}\n",
      "-1.172882 (1.899376) with: {'n_estimators': 12}\n",
      "-1.204324 (1.895522) with: {'n_estimators': 13}\n",
      "-1.265280 (1.940696) with: {'n_estimators': 14}\n",
      "-1.285400 (1.934674) with: {'n_estimators': 15}\n",
      "-1.297218 (1.931351) with: {'n_estimators': 16}\n",
      "-1.346628 (1.972181) with: {'n_estimators': 17}\n",
      "-1.359776 (1.965015) with: {'n_estimators': 18}\n",
      "-1.316241 (1.884463) with: {'n_estimators': 19}\n",
      "MAE = 0.9117833333333313\n"
     ]
    },
    {
     "data": {
      "image/png": "[encoded data removed]",
      "text/plain": [
       "<Figure size 432x288 with 1 Axes>"
      ]
     },
     "metadata": {
      "needs_background": "light"
     },
     "output_type": "display_data"
    }
   ],
   "source": [
    "# попробуем оптимизировать количество эстиматоров \n",
    "params = dict(\n",
    "    n_estimators=[x for x in range(1,20)]\n",
    ")\n",
    "\n",
    "# с помощью автоматизированного поиска найдем оптимальную конфигурацию для предиктора\n",
    "grid = GridSearchCV(estimator=rf_regressor, param_grid=params, cv=3, verbose=0)\n",
    "# посмотреть на время, которое потребуется для поиска оптимальных параметров\n",
    "d1 = datetime.now()\n",
    "with warnings.catch_warnings():\n",
    "    # ignore all caught warnings\n",
    "    warnings.filterwarnings(\"ignore\")\n",
    "    grid_result = grid.fit(X, Y)\n",
    "\n",
    "d2 = datetime.now()\n",
    "delta = d2 - d1\n",
    "print(\"fitting time - {} seconds\".format(delta.seconds))\n",
    "\n",
    "# вывод наиболее удачной комбинации параметров\n",
    "print(\"Best: %f using %s\" % (grid_result.best_score_, grid_result.best_params_))\n",
    "means = grid_result.cv_results_['mean_test_score']\n",
    "stds = grid_result.cv_results_['std_test_score']\n",
    "params = grid_result.cv_results_['params']\n",
    "for mean, stdev, param in zip(means, stds, params):\n",
    "    print(\"%f (%f) with: %r\" % (mean, stdev, param))\n",
    "    \n",
    "prediction = grid_result.predict(X_test) # Предсказания\n",
    "plt.plot(prediction[0], label=\"Prediction\") # График\n",
    "plt.plot(Y_test.iloc[0], label=\"Real\")\n",
    "plt.legend()\n",
    "mae = mean_absolute_error(prediction[0], Y_test.iloc[0])\n",
    "print(f\"MAE = {mae}\")"
   ]
  },
  {
   "cell_type": "code",
   "execution_count": 54,
   "metadata": {},
   "outputs": [],
   "source": [
    "extra_trees_regressor = ExtraTreesRegressor(random_state=42)"
   ]
  },
  {
   "cell_type": "code",
   "execution_count": 55,
   "metadata": {},
   "outputs": [
    {
     "name": "stdout",
     "output_type": "stream",
     "text": [
      "fitting time - 13 seconds\n",
      "Best: -1.178697 using {'n_estimators': 125}\n",
      "-1.460809 (1.746832) with: {'n_estimators': 5}\n",
      "-1.294132 (1.912877) with: {'n_estimators': 10}\n",
      "-1.366318 (1.999220) with: {'n_estimators': 15}\n",
      "-1.307557 (2.049701) with: {'n_estimators': 20}\n",
      "-1.338080 (2.135822) with: {'n_estimators': 25}\n",
      "-1.290736 (2.118066) with: {'n_estimators': 30}\n",
      "-1.314983 (2.105184) with: {'n_estimators': 35}\n",
      "-1.338666 (2.094773) with: {'n_estimators': 40}\n",
      "-1.291005 (2.030668) with: {'n_estimators': 45}\n",
      "-1.303021 (2.034841) with: {'n_estimators': 50}\n",
      "-1.326407 (2.049746) with: {'n_estimators': 55}\n",
      "-1.347128 (2.043566) with: {'n_estimators': 60}\n",
      "-1.263639 (1.912949) with: {'n_estimators': 65}\n",
      "-1.267807 (1.935731) with: {'n_estimators': 70}\n",
      "-1.225323 (1.949655) with: {'n_estimators': 75}\n",
      "-1.210740 (1.961837) with: {'n_estimators': 80}\n",
      "-1.188721 (1.966795) with: {'n_estimators': 85}\n",
      "-1.202724 (1.952537) with: {'n_estimators': 90}\n",
      "-1.227773 (1.960458) with: {'n_estimators': 95}\n",
      "-1.235637 (1.959194) with: {'n_estimators': 100}\n",
      "-1.231664 (1.971196) with: {'n_estimators': 105}\n",
      "-1.234987 (1.952257) with: {'n_estimators': 110}\n",
      "-1.211045 (1.909823) with: {'n_estimators': 115}\n",
      "-1.188973 (1.923164) with: {'n_estimators': 120}\n",
      "-1.178697 (1.901037) with: {'n_estimators': 125}\n",
      "-1.188472 (1.917046) with: {'n_estimators': 130}\n",
      "-1.180002 (1.916362) with: {'n_estimators': 135}\n",
      "-1.184310 (1.918844) with: {'n_estimators': 140}\n",
      "-1.183770 (1.927037) with: {'n_estimators': 145}\n",
      "-1.178881 (1.922924) with: {'n_estimators': 150}\n",
      "MAE = 0.7423110857142916\n"
     ]
    },
    {
     "data": {
      "image/png": "[encoded data removed]",
      "text/plain": [
       "<Figure size 432x288 with 1 Axes>"
      ]
     },
     "metadata": {
      "needs_background": "light"
     },
     "output_type": "display_data"
    }
   ],
   "source": [
    "# попробуем оптимизировать количество эстиматоров \n",
    "params = dict(\n",
    "    n_estimators=[x for x in range(5,151, 5)]\n",
    ")\n",
    "\n",
    "# с помощью автоматизированного поиска найдем оптимальную конфигурацию для предиктора\n",
    "grid = GridSearchCV(estimator=extra_trees_regressor, param_grid=params, cv=3, verbose=0)\n",
    "# посмотреть на время, которое потребуется для поиска оптимальных параметров\n",
    "d1 = datetime.now()\n",
    "with warnings.catch_warnings():\n",
    "    # ignore all caught warnings\n",
    "    warnings.filterwarnings(\"ignore\")\n",
    "    grid_result = grid.fit(X.to_numpy(), Y.to_numpy())\n",
    "\n",
    "d2 = datetime.now()\n",
    "delta = d2 - d1\n",
    "print(\"fitting time - {} seconds\".format(delta.seconds))\n",
    "\n",
    "# вывод наиболее удачной комбинации параметров\n",
    "print(\"Best: %f using %s\" % (grid_result.best_score_, grid_result.best_params_))\n",
    "means = grid_result.cv_results_['mean_test_score']\n",
    "stds = grid_result.cv_results_['std_test_score']\n",
    "params = grid_result.cv_results_['params']\n",
    "for mean, stdev, param in zip(means, stds, params):\n",
    "    print(\"%f (%f) with: %r\" % (mean, stdev, param))\n",
    "    \n",
    "prediction = grid_result.predict(X_test) # Предсказания\n",
    "plt.plot(prediction[0], label=\"Prediction\") # График\n",
    "plt.plot(Y_test.iloc[0], label=\"Real\")\n",
    "plt.legend()\n",
    "mae = mean_absolute_error(prediction[0], Y_test.iloc[0])\n",
    "print(f\"MAE = {mae}\")"
   ]
  },
  {
   "cell_type": "code",
   "execution_count": 60,
   "metadata": {},
   "outputs": [],
   "source": [
    "# Для того чтобы использовать GradientBoosting и, к примеру, AdaBoost следует использовать future a размере 1 значения\n",
    "future = 1 # Попытаемся предсказать курс на 7 дней вперед\n",
    "past = 14 # На основе 14 дней в прошлом\n",
    "\n",
    "raw_df_upd = [list(curs[(day-past):(day+future)]) for day in range(start, end)]\n",
    "\n",
    "past_columns = [f\"past_{i}\" for i in range(past)]\n",
    "future_columns = [f\"future_{i}\" for i in range(future)]\n",
    "\n",
    "total_columns = past_columns + future_columns\n",
    "df_upd = pandas.DataFrame(data=raw_df_upd, columns=total_columns)\n",
    "\n",
    "# Обучающая выборка (тренировочная) \"Учебник\"\n",
    "X_upd = df_upd[past_columns][:-1]\n",
    "Y_upd = df_upd[future_columns][:-1]\n",
    "\n",
    "# Проверочная (тестовая) выборка, \"Экзамен\"\n",
    "X_test_upd = df_upd[past_columns][-1:]\n",
    "Y_test_upd = df_upd[future_columns][-1:]"
   ]
  },
  {
   "cell_type": "code",
   "execution_count": 74,
   "metadata": {},
   "outputs": [],
   "source": [
    "ab_regressor = AdaBoostRegressor(random_state=42)"
   ]
  },
  {
   "cell_type": "code",
   "execution_count": 77,
   "metadata": {},
   "outputs": [
    {
     "name": "stdout",
     "output_type": "stream",
     "text": [
      "fitting time - 8 seconds\n",
      "Best: -0.224530 using {'n_estimators': 45}\n",
      "-0.299462 (1.034465) with: {'n_estimators': 5}\n",
      "-0.255785 (0.964944) with: {'n_estimators': 10}\n",
      "-0.253316 (1.059492) with: {'n_estimators': 15}\n",
      "-0.226960 (1.005020) with: {'n_estimators': 20}\n",
      "-0.270738 (1.036548) with: {'n_estimators': 25}\n",
      "-0.260075 (1.063089) with: {'n_estimators': 30}\n",
      "-0.286632 (1.081778) with: {'n_estimators': 35}\n",
      "-0.266834 (1.042467) with: {'n_estimators': 40}\n",
      "-0.224530 (0.992217) with: {'n_estimators': 45}\n",
      "-0.251618 (1.025135) with: {'n_estimators': 50}\n",
      "-0.271731 (1.048197) with: {'n_estimators': 55}\n",
      "-0.275592 (1.055330) with: {'n_estimators': 60}\n",
      "-0.295791 (1.079249) with: {'n_estimators': 65}\n",
      "-0.273404 (1.063638) with: {'n_estimators': 70}\n",
      "-0.254046 (1.041973) with: {'n_estimators': 75}\n",
      "-0.266359 (1.040171) with: {'n_estimators': 80}\n",
      "-0.282726 (1.062968) with: {'n_estimators': 85}\n",
      "-0.314099 (1.061052) with: {'n_estimators': 90}\n",
      "-0.289331 (1.062307) with: {'n_estimators': 95}\n",
      "-0.265344 (1.036478) with: {'n_estimators': 100}\n",
      "-0.290815 (1.032379) with: {'n_estimators': 105}\n",
      "-0.291590 (1.036663) with: {'n_estimators': 110}\n",
      "-0.276659 (1.035061) with: {'n_estimators': 115}\n",
      "-0.267361 (1.023675) with: {'n_estimators': 120}\n",
      "-0.274247 (1.032258) with: {'n_estimators': 125}\n",
      "-0.273455 (1.021825) with: {'n_estimators': 130}\n",
      "-0.268136 (1.020581) with: {'n_estimators': 135}\n",
      "-0.279745 (1.033578) with: {'n_estimators': 140}\n",
      "-0.281256 (1.034402) with: {'n_estimators': 145}\n",
      "-0.274026 (1.026567) with: {'n_estimators': 150}\n",
      "MAE = 0.25908170731704416\n"
     ]
    },
    {
     "data": {
      "image/png": "[encoded data removed]",
      "text/plain": [
       "<Figure size 432x288 with 1 Axes>"
      ]
     },
     "metadata": {
      "needs_background": "light"
     },
     "output_type": "display_data"
    }
   ],
   "source": [
    "# попробуем оптимизировать количество эстиматоров \n",
    "params = dict(\n",
    "    n_estimators=[x for x in range(5,151, 5)]\n",
    ")\n",
    "\n",
    "# с помощью автоматизированного поиска найдем оптимальную конфигурацию для предиктора\n",
    "grid = GridSearchCV(estimator=ab_regressor, param_grid=params, cv=3, verbose=0)\n",
    "# посмотреть на время, которое потребуется для поиска оптимальных параметров\n",
    "d1 = datetime.now()\n",
    "with warnings.catch_warnings():\n",
    "    # ignore all caught warnings\n",
    "    warnings.filterwarnings(\"ignore\")\n",
    "    grid_result = grid.fit(X_upd, Y_upd)\n",
    "\n",
    "d2 = datetime.now()\n",
    "delta = d2 - d1\n",
    "print(\"fitting time - {} seconds\".format(delta.seconds))\n",
    "\n",
    "# вывод наиболее удачной комбинации параметров\n",
    "print(\"Best: %f using %s\" % (grid_result.best_score_, grid_result.best_params_))\n",
    "means = grid_result.cv_results_['mean_test_score']\n",
    "stds = grid_result.cv_results_['std_test_score']\n",
    "params = grid_result.cv_results_['params']\n",
    "for mean, stdev, param in zip(means, stds, params):\n",
    "    print(\"%f (%f) with: %r\" % (mean, stdev, param))\n",
    "    \n",
    "prediction = grid_result.predict(X_test_upd) # Предсказания\n",
    "plt.plot(prediction[0], label=\"Prediction\") # График\n",
    "plt.plot(Y_test_upd.iloc[0], label=\"Real\")\n",
    "plt.legend()\n",
    "mae = mean_absolute_error(prediction, Y_test_upd.iloc[0])\n",
    "print(f\"MAE = {mae}\")"
   ]
  },
  {
   "cell_type": "code",
   "execution_count": 78,
   "metadata": {},
   "outputs": [],
   "source": [
    "gb_regressor = GradientBoostingRegressor(random_state=42)"
   ]
  },
  {
   "cell_type": "code",
   "execution_count": 79,
   "metadata": {},
   "outputs": [
    {
     "name": "stdout",
     "output_type": "stream",
     "text": [
      "fitting time - 10 seconds\n",
      "Best: 0.310792 using {'n_estimators': 55}\n",
      "-4.487691 (4.251389) with: {'n_estimators': 5}\n",
      "-1.614528 (2.314097) with: {'n_estimators': 10}\n",
      "-0.497840 (1.566208) with: {'n_estimators': 15}\n",
      "-0.076708 (1.255195) with: {'n_estimators': 20}\n",
      "0.103293 (1.096312) with: {'n_estimators': 25}\n",
      "0.194215 (0.988708) with: {'n_estimators': 30}\n",
      "0.249384 (0.912401) with: {'n_estimators': 35}\n",
      "0.293691 (0.845768) with: {'n_estimators': 40}\n",
      "0.301925 (0.828222) with: {'n_estimators': 45}\n",
      "0.309227 (0.816392) with: {'n_estimators': 50}\n",
      "0.310792 (0.814134) with: {'n_estimators': 55}\n",
      "0.309674 (0.816351) with: {'n_estimators': 60}\n",
      "0.309808 (0.815860) with: {'n_estimators': 65}\n",
      "0.310122 (0.814886) with: {'n_estimators': 70}\n",
      "0.309823 (0.814730) with: {'n_estimators': 75}\n",
      "0.310379 (0.814129) with: {'n_estimators': 80}\n",
      "0.310236 (0.814430) with: {'n_estimators': 85}\n",
      "0.301266 (0.826656) with: {'n_estimators': 90}\n",
      "0.302486 (0.824395) with: {'n_estimators': 95}\n",
      "0.302216 (0.825077) with: {'n_estimators': 100}\n",
      "0.302626 (0.824043) with: {'n_estimators': 105}\n",
      "0.302495 (0.824968) with: {'n_estimators': 110}\n",
      "0.302791 (0.824756) with: {'n_estimators': 115}\n",
      "0.302870 (0.825108) with: {'n_estimators': 120}\n",
      "0.301924 (0.826163) with: {'n_estimators': 125}\n",
      "0.302151 (0.826706) with: {'n_estimators': 130}\n",
      "0.301524 (0.827876) with: {'n_estimators': 135}\n",
      "0.301549 (0.827889) with: {'n_estimators': 140}\n",
      "0.295318 (0.837048) with: {'n_estimators': 145}\n",
      "0.296023 (0.835482) with: {'n_estimators': 150}\n",
      "MAE = 0.2736490210731475\n"
     ]
    },
    {
     "data": {
      "image/png": "[encoded data removed]",
      "text/plain": [
       "<Figure size 432x288 with 1 Axes>"
      ]
     },
     "metadata": {
      "needs_background": "light"
     },
     "output_type": "display_data"
    }
   ],
   "source": [
    "# попробуем оптимизировать количество эстиматоров \n",
    "params = dict(\n",
    "    n_estimators=[x for x in range(5,151, 5)]\n",
    ")\n",
    "\n",
    "# с помощью автоматизированного поиска найдем оптимальную конфигурацию для предиктора\n",
    "grid = GridSearchCV(estimator=gb_regressor, param_grid=params, cv=3, verbose=0)\n",
    "# посмотреть на время, которое потребуется для поиска оптимальных параметров\n",
    "d1 = datetime.now()\n",
    "with warnings.catch_warnings():\n",
    "    # ignore all caught warnings\n",
    "    warnings.filterwarnings(\"ignore\")\n",
    "    grid_result = grid.fit(X_upd, Y_upd)\n",
    "\n",
    "d2 = datetime.now()\n",
    "delta = d2 - d1\n",
    "print(\"fitting time - {} seconds\".format(delta.seconds))\n",
    "\n",
    "# вывод наиболее удачной комбинации параметров\n",
    "print(\"Best: %f using %s\" % (grid_result.best_score_, grid_result.best_params_))\n",
    "means = grid_result.cv_results_['mean_test_score']\n",
    "stds = grid_result.cv_results_['std_test_score']\n",
    "params = grid_result.cv_results_['params']\n",
    "for mean, stdev, param in zip(means, stds, params):\n",
    "    print(\"%f (%f) with: %r\" % (mean, stdev, param))\n",
    "    \n",
    "prediction = grid_result.predict(X_test_upd) # Предсказания\n",
    "plt.plot(prediction[0], label=\"Prediction\") # График\n",
    "plt.plot(Y_test_upd.iloc[0], label=\"Real\")\n",
    "plt.legend()\n",
    "mae = mean_absolute_error(prediction, Y_test_upd.iloc[0])\n",
    "print(f\"MAE = {mae}\")"
   ]
  },
  {
   "cell_type": "code",
   "execution_count": null,
   "metadata": {},
   "outputs": [],
   "source": [
    "Выводы: \n",
    "    1) В целом исходя из корреляционного анализа модель на основе данного датасета не будет слишком надежной\n",
    "    2) Для поиска оптимальных показателей для нейросетевого регрессора можно использовать подход бинарного поиска - \n",
    "    то есть использовать параметры конфигурации слоев с грубым шагом (скажем 50), а затем постепенно уменьшать шаг, попутно уменьшая диапазон в range()\n",
    "    3) Для подбора параметров в других регрессорах использовался, в основном, параметр, ответственный за количество эстиматоров (n_estimators)\n",
    "    4) Для того, чтобы улучшить качество модели следует добавить в модель другие параметры (features):\n",
    "        - которые представляют нелинейную комбинацию имеющихся параметров (в данном случае, к примеру, какие-то технические индикаторы на основе скользящих средних)\n",
    "        - которые имеют косвенное отношение, то есть нескоррелированы с исходными данными, к примеру, упоминавшиеся цены на золото/нефть\n",
    "        - применять оконные функции на добавленных параметрах (впрочем скользящая средняя и есть оконная функция) - \n",
    "        к примеру, добавить для холота и нефти добавить также скользящие средние. Эти показатели можно потом нормировать.\n",
    "    5) В данной модели функции были гладкие, непрерывные - поэтому outlier detection не требовалось, хотя этот аспект может очень сильно влиять на качество модели.    \n",
    "    6) Достаточно неплохие показатели получились от GradientBoosting и AdaBoost регрессоров. \n",
    "    Тем не менее, для них пришлось несколько изменить датасет, что само собой вносит соответствующие риски и ограничения."
   ]
  }
 ],
 "metadata": {
  "kernelspec": {
   "display_name": "Python 3",
   "language": "python",
   "name": "python3"
  },
  "language_info": {
   "codemirror_mode": {
    "name": "ipython",
    "version": 3
   },
   "file_extension": ".py",
   "mimetype": "text/x-python",
   "name": "python",
   "nbconvert_exporter": "python",
   "pygments_lexer": "ipython3",
   "version": "3.7.7"
  }
 },
 "nbformat": 4,
 "nbformat_minor": 2
}
