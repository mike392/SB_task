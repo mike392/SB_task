{
 "cells": [
  {
   "cell_type": "code",
   "execution_count": 1,
   "metadata": {},
   "outputs": [],
   "source": [
    "import pandas\n",
    "import seaborn as sns\n",
    "from sklearn.model_selection import GridSearchCV\n",
    "from sklearn.metrics import mean_absolute_error\n",
    "from sklearn.neighbors import KNeighborsRegressor\n",
    "from sklearn.neural_network import MLPRegressor\n",
    "from sklearn.linear_model import LinearRegression\n",
    "from sklearn.ensemble import BaggingRegressor, GradientBoostingRegressor, AdaBoostRegressor, RandomForestRegressor\n",
    "import matplotlib.pyplot as plt\n",
    "import warnings\n",
    "from datetime import datetime"
   ]
  },
  {
   "cell_type": "code",
   "execution_count": 2,
   "metadata": {},
   "outputs": [],
   "source": [
    "usd_rate = pandas.read_excel(\"usd_rate.xlsx\")\n",
    "curs = usd_rate.curs\n",
    "future = 7 # Попытаемся предсказать курс на 7 дней вперед\n",
    "past = 14 # На основе 14 дней в прошлом\n",
    "start = past\n",
    "end = len(curs) - future"
   ]
  },
  {
   "cell_type": "code",
   "execution_count": 3,
   "metadata": {},
   "outputs": [],
   "source": [
    "raw_df = [list(curs[(day-past):(day+future)]) for day in range(start, end)]"
   ]
  },
  {
   "cell_type": "code",
   "execution_count": 4,
   "metadata": {},
   "outputs": [
    {
     "data": {
      "text/plain": [
       "['past_0',\n",
       " 'past_1',\n",
       " 'past_2',\n",
       " 'past_3',\n",
       " 'past_4',\n",
       " 'past_5',\n",
       " 'past_6',\n",
       " 'past_7',\n",
       " 'past_8',\n",
       " 'past_9',\n",
       " 'past_10',\n",
       " 'past_11',\n",
       " 'past_12',\n",
       " 'past_13']"
      ]
     },
     "execution_count": 4,
     "metadata": {},
     "output_type": "execute_result"
    }
   ],
   "source": [
    "past_columns = [f\"past_{i}\" for i in range(past)]\n",
    "past_columns"
   ]
  },
  {
   "cell_type": "code",
   "execution_count": 5,
   "metadata": {},
   "outputs": [
    {
     "data": {
      "text/plain": [
       "['future_0',\n",
       " 'future_1',\n",
       " 'future_2',\n",
       " 'future_3',\n",
       " 'future_4',\n",
       " 'future_5',\n",
       " 'future_6']"
      ]
     },
     "execution_count": 5,
     "metadata": {},
     "output_type": "execute_result"
    }
   ],
   "source": [
    "future_columns = [f\"future_{i}\" for i in range(future)]\n",
    "future_columns"
   ]
  },
  {
   "cell_type": "code",
   "execution_count": 6,
   "metadata": {},
   "outputs": [],
   "source": [
    "total_columns = past_columns + future_columns\n",
    "df = pandas.DataFrame(data=raw_df, columns=total_columns)"
   ]
  },
  {
   "cell_type": "code",
   "execution_count": 7,
   "metadata": {},
   "outputs": [
    {
     "data": {
      "text/plain": [
       "<matplotlib.axes._subplots.AxesSubplot at 0x1331b5150>"
      ]
     },
     "execution_count": 7,
     "metadata": {},
     "output_type": "execute_result"
    },
    {
     "data": {
      "image/png": "[encoded data removed]",
      "text/plain": [
       "<Figure size 432x288 with 2 Axes>"
      ]
     },
     "metadata": {
      "needs_background": "light"
     },
     "output_type": "display_data"
    }
   ],
   "source": [
    "# для анализа надежности и доверительности модели следует проверить уровень корреляции между составляющими датасета.\n",
    "# С учетом того, что автомасштабирование коэффициентов корреляции находитcz в пределах 1 - 0.9, то это означает, что корреляция достатолчно высокая корреляция между величинами\n",
    "# Как правило из модели features с большой корреляцией между собой надо убирать - \n",
    "# соответственно надежность прогнозов при такой высокой корреляции будет крайне низкой\n",
    "sns.heatmap(df.corr())"
   ]
  },
  {
   "cell_type": "code",
   "execution_count": 8,
   "metadata": {},
   "outputs": [],
   "source": [
    "# Обучающая выборка (тренировочная) \"Учебник\"\n",
    "X = df[past_columns][:-1]\n",
    "Y = df[future_columns][:-1]"
   ]
  },
  {
   "cell_type": "code",
   "execution_count": 9,
   "metadata": {},
   "outputs": [],
   "source": [
    "# Проверочная (тестовая) выборка, \"Экзамен\"\n",
    "X_test = df[past_columns][-1:]\n",
    "Y_test = df[future_columns][-1:]"
   ]
  },
  {
   "cell_type": "code",
   "execution_count": null,
   "metadata": {},
   "outputs": [],
   "source": [
    "lr = LinearRegression() # Настройки\n",
    "lr.fit(X,Y) # Обучение\n",
    "prediction = lr.predict(X_test) # Предсказания\n",
    "plt.plot(prediction[0], label=\"Prediction\")\n",
    "plt.plot(Y_test.iloc[0], label=\"Real\")\n",
    "plt.legend()\n",
    "mean_absolute_error(prediction[0], Y_test.iloc[0])"
   ]
  },
  {
   "cell_type": "code",
   "execution_count": null,
   "metadata": {},
   "outputs": [],
   "source": [
    "KNN = KNeighborsRegressor(n_neighbors=2)\n",
    "KNN.fit(X,Y)\n",
    "prediction = KNN.predict(X_test) # Предсказания\n",
    "plt.plot(prediction[0], label=\"Prediction\") # График\n",
    "plt.plot(Y_test.iloc[0], label=\"Real\")\n",
    "plt.legend()\n",
    "mae = mean_absolute_error(prediction[0], Y_test.iloc[0])\n",
    "print(f\"MAE = {mae}\")"
   ]
  },
  {
   "cell_type": "code",
   "execution_count": null,
   "metadata": {},
   "outputs": [],
   "source": [
    "# Использовать датасет из эфира (будет выложен в ТГ)\n",
    "# Использовать random_state=42\n",
    "# 1. Документция по Sklearn https://scikit-learn.org/stable/modules/classes.html\n",
    "# 2. Подобрать параметры MLPRegressor, добиться MAE (mean_absolute_error) меньше чем в эфире 0.924\n",
    "# 3. Выбрать из sklearn 4 (четыре) других модели регресии \n",
    "# (...Regressor, модели которые мы еще НЕ испольовали), \n",
    "# и добиться на них наименьшей ошибки. \n",
    "\n",
    "# Критерием оценки ДЗ НЕ ЯВЛЯЕТСЯ самая минимальная ошибки.\n",
    "# 4. Оформить свой результат в виде HTML файла (Меню File -> Download as -> HTML), \n",
    "# в файле должно быть\n",
    "# — Комментарии к коду, что вы делаете в этом коде и зачем\n",
    "# — Графики (https://matplotlib.org/gallery/index.html)\n",
    "# — В отчете должны быть выводы\n",
    "\n",
    "# Дз нужно прислать до 18:00 МСК завтра(ВС), что бы мы успели все проверить\n",
    "# Ссылка куда прислать будет в ТГ"
   ]
  },
  {
   "cell_type": "code",
   "execution_count": 10,
   "metadata": {},
   "outputs": [],
   "source": [
    "mlpr = MLPRegressor(random_state=42)"
   ]
  },
  {
   "cell_type": "code",
   "execution_count": null,
   "metadata": {},
   "outputs": [],
   "source": [
    "# как правило очень большое влияние в моделях на основе нейростей играют \n",
    "# - функции активации \n",
    "# - оптимизаторы (solver)\n",
    "# - конфигурация скрытых слоёв\n",
    "# - количество итераций для оптимизатора для достижения сходимости\n",
    "params = dict(\n",
    "    activation= [\"tanh\", \"relu\"],\n",
    "    hidden_layer_sizes= [(x, y) for x in range(200, 601, 100) for y in range(200, 601, 100)],\n",
    "    max_iter= [100, 200, 400, 1000],\n",
    "    solver= [\"sgd\", \"adam\"]\n",
    ")\n",
    "\n",
    "grid = GridSearchCV(estimator=mlpr, param_grid=params, cv=3, verbose=0)\n",
    "# посмотреть на время, которое потребуется для поиска оптимальных параметров\n",
    "d1 = datetime.now()\n",
    "with warnings.catch_warnings():\n",
    "    # ignore all caught warnings\n",
    "    warnings.filterwarnings(\"ignore\")\n",
    "    grid_result = grid.fit(X, Y)\n",
    "\n",
    "d2 = datetime.now()\n",
    "delta = d2 - d1\n",
    "print(\"fitting time - {} seconds\".format(delta.seconds))\n",
    "\n",
    "# вывод наиболее удачной комбинации параметров\n",
    "print(\"Best: %f using %s\" % (grid_result.best_score_, grid_result.best_params_))\n",
    "means = grid_result.cv_results_['mean_test_score']\n",
    "stds = grid_result.cv_results_['std_test_score']\n",
    "params = grid_result.cv_results_['params']\n",
    "for mean, stdev, param in zip(means, stds, params):\n",
    "    print(\"%f (%f) with: %r\" % (mean, stdev, param))\n",
    "    \n",
    "prediction = grid_result.predict(X_test) # Предсказания\n",
    "plt.plot(prediction[0], label=\"Prediction\") # График\n",
    "plt.plot(Y_test.iloc[0], label=\"Real\")\n",
    "plt.legend()\n",
    "mae = mean_absolute_error(prediction[0], Y_test.iloc[0])\n",
    "print(f\"MAE = {mae}\")"
   ]
  },
  {
   "cell_type": "code",
   "execution_count": 10,
   "metadata": {},
   "outputs": [],
   "source": [
    "bagging_regressor = BaggingRegressor(random_state=42)"
   ]
  },
  {
   "cell_type": "code",
   "execution_count": 15,
   "metadata": {},
   "outputs": [
    {
     "name": "stdout",
     "output_type": "stream",
     "text": [
      "fitting time - 22 seconds\n",
      "Best: -1.213643 using {'n_estimators': 10}\n",
      "-1.247677 (1.985253) with: {'n_estimators': 5}\n",
      "-1.213643 (1.916373) with: {'n_estimators': 10}\n",
      "-1.264073 (1.889933) with: {'n_estimators': 15}\n",
      "-1.305518 (1.859177) with: {'n_estimators': 20}\n",
      "-1.274164 (1.896512) with: {'n_estimators': 25}\n",
      "-1.311302 (1.889476) with: {'n_estimators': 30}\n",
      "-1.344905 (1.879786) with: {'n_estimators': 35}\n",
      "-1.329803 (1.832141) with: {'n_estimators': 40}\n",
      "-1.361327 (1.861523) with: {'n_estimators': 45}\n",
      "-1.368098 (1.905581) with: {'n_estimators': 50}\n",
      "-1.307129 (1.860562) with: {'n_estimators': 55}\n",
      "-1.326607 (1.875733) with: {'n_estimators': 60}\n",
      "-1.315379 (1.860341) with: {'n_estimators': 65}\n",
      "-1.334810 (1.872573) with: {'n_estimators': 70}\n",
      "-1.376496 (1.906783) with: {'n_estimators': 75}\n",
      "-1.339621 (1.893911) with: {'n_estimators': 80}\n",
      "-1.342388 (1.902933) with: {'n_estimators': 85}\n",
      "-1.364028 (1.912601) with: {'n_estimators': 90}\n",
      "-1.380586 (1.916227) with: {'n_estimators': 95}\n",
      "-1.387950 (1.927620) with: {'n_estimators': 100}\n",
      "-1.366441 (1.924905) with: {'n_estimators': 105}\n",
      "-1.362451 (1.925399) with: {'n_estimators': 110}\n",
      "-1.352461 (1.922084) with: {'n_estimators': 115}\n",
      "-1.363583 (1.924218) with: {'n_estimators': 120}\n",
      "-1.371650 (1.926730) with: {'n_estimators': 125}\n",
      "-1.352896 (1.912661) with: {'n_estimators': 130}\n",
      "-1.360009 (1.920147) with: {'n_estimators': 135}\n",
      "-1.368934 (1.913785) with: {'n_estimators': 140}\n",
      "-1.356455 (1.892657) with: {'n_estimators': 145}\n",
      "-1.365732 (1.901487) with: {'n_estimators': 150}\n",
      "MAE = 0.7177371428571432\n"
     ]
    },
    {
     "data": {
      "image/png": "[encoded data removed]",
      "text/plain": [
       "<Figure size 432x288 with 1 Axes>"
      ]
     },
     "metadata": {
      "needs_background": "light"
     },
     "output_type": "display_data"
    }
   ],
   "source": [
    "# попробуем оптимизировать количество эстиматоров \n",
    "params = dict(\n",
    "    n_estimators=[x for x in range(1,20)]\n",
    ")\n",
    "\n",
    "grid = GridSearchCV(estimator=bagging_regressor, param_grid=params, cv=3, verbose=0)\n",
    "# посмотреть на время, которое потребуется для поиска оптимальных параметров\n",
    "d1 = datetime.now()\n",
    "with warnings.catch_warnings():\n",
    "    # ignore all caught warnings\n",
    "    warnings.filterwarnings(\"ignore\")\n",
    "    grid_result = grid.fit(X, Y)\n",
    "\n",
    "d2 = datetime.now()\n",
    "delta = d2 - d1\n",
    "print(\"fitting time - {} seconds\".format(delta.seconds))\n",
    "\n",
    "# вывод наиболее удачной комбинации параметров\n",
    "print(\"Best: %f using %s\" % (grid_result.best_score_, grid_result.best_params_))\n",
    "means = grid_result.cv_results_['mean_test_score']\n",
    "stds = grid_result.cv_results_['std_test_score']\n",
    "params = grid_result.cv_results_['params']\n",
    "for mean, stdev, param in zip(means, stds, params):\n",
    "    print(\"%f (%f) with: %r\" % (mean, stdev, param))\n",
    "    \n",
    "prediction = grid_result.predict(X_test) # Предсказания\n",
    "plt.plot(prediction[0], label=\"Prediction\") # График\n",
    "plt.plot(Y_test.iloc[0], label=\"Real\")\n",
    "plt.legend()\n",
    "mae = mean_absolute_error(prediction[0], Y_test.iloc[0])\n",
    "print(f\"MAE = {mae}\")"
   ]
  },
  {
   "cell_type": "code",
   "execution_count": 19,
   "metadata": {},
   "outputs": [],
   "source": [
    "rf_regressor = RandomForestRegressor(random_state=42)"
   ]
  },
  {
   "cell_type": "code",
   "execution_count": 20,
   "metadata": {},
   "outputs": [
    {
     "name": "stdout",
     "output_type": "stream",
     "text": [
      "fitting time - 22 seconds\n",
      "Best: -1.125626 using {'n_estimators': 5}\n",
      "-1.125626 (1.894833) with: {'n_estimators': 5}\n",
      "-1.194881 (1.940639) with: {'n_estimators': 10}\n",
      "-1.285400 (1.934674) with: {'n_estimators': 15}\n",
      "-1.329361 (1.885480) with: {'n_estimators': 20}\n",
      "-1.259482 (1.902629) with: {'n_estimators': 25}\n",
      "-1.317302 (1.917856) with: {'n_estimators': 30}\n",
      "-1.306005 (1.889663) with: {'n_estimators': 35}\n",
      "-1.326715 (1.870988) with: {'n_estimators': 40}\n",
      "-1.316221 (1.879451) with: {'n_estimators': 45}\n",
      "-1.310424 (1.901598) with: {'n_estimators': 50}\n",
      "-1.258546 (1.860500) with: {'n_estimators': 55}\n",
      "-1.224615 (1.832636) with: {'n_estimators': 60}\n",
      "-1.204536 (1.799011) with: {'n_estimators': 65}\n",
      "-1.214091 (1.793910) with: {'n_estimators': 70}\n",
      "-1.250253 (1.816643) with: {'n_estimators': 75}\n",
      "-1.243111 (1.792007) with: {'n_estimators': 80}\n",
      "-1.256676 (1.810269) with: {'n_estimators': 85}\n",
      "-1.264824 (1.801076) with: {'n_estimators': 90}\n",
      "-1.287348 (1.811224) with: {'n_estimators': 95}\n",
      "-1.310798 (1.824264) with: {'n_estimators': 100}\n",
      "-1.284770 (1.819435) with: {'n_estimators': 105}\n",
      "-1.270616 (1.809021) with: {'n_estimators': 110}\n",
      "-1.265775 (1.811885) with: {'n_estimators': 115}\n",
      "-1.279988 (1.819462) with: {'n_estimators': 120}\n",
      "-1.283454 (1.815406) with: {'n_estimators': 125}\n",
      "-1.259672 (1.791362) with: {'n_estimators': 130}\n",
      "-1.270061 (1.789876) with: {'n_estimators': 135}\n",
      "-1.269755 (1.776714) with: {'n_estimators': 140}\n",
      "-1.277216 (1.777334) with: {'n_estimators': 145}\n",
      "-1.290360 (1.785179) with: {'n_estimators': 150}\n",
      "MAE = 0.7828199999999959\n"
     ]
    },
    {
     "data": {
      "image/png": "[encoded data removed]",
      "text/plain": [
       "<Figure size 432x288 with 1 Axes>"
      ]
     },
     "metadata": {
      "needs_background": "light"
     },
     "output_type": "display_data"
    }
   ],
   "source": [
    "# попробуем оптимизировать количество эстиматоров \n",
    "params = dict(\n",
    "    n_estimators=[x for x in range(1,20)]\n",
    ")\n",
    "\n",
    "grid = GridSearchCV(estimator=rf_regressor, param_grid=params, cv=3, verbose=0)\n",
    "# посмотреть на время, которое потребуется для поиска оптимальных параметров\n",
    "d1 = datetime.now()\n",
    "with warnings.catch_warnings():\n",
    "    # ignore all caught warnings\n",
    "    warnings.filterwarnings(\"ignore\")\n",
    "    grid_result = grid.fit(X, Y)\n",
    "\n",
    "d2 = datetime.now()\n",
    "delta = d2 - d1\n",
    "print(\"fitting time - {} seconds\".format(delta.seconds))\n",
    "\n",
    "# вывод наиболее удачной комбинации параметров\n",
    "print(\"Best: %f using %s\" % (grid_result.best_score_, grid_result.best_params_))\n",
    "means = grid_result.cv_results_['mean_test_score']\n",
    "stds = grid_result.cv_results_['std_test_score']\n",
    "params = grid_result.cv_results_['params']\n",
    "for mean, stdev, param in zip(means, stds, params):\n",
    "    print(\"%f (%f) with: %r\" % (mean, stdev, param))\n",
    "    \n",
    "prediction = grid_result.predict(X_test) # Предсказания\n",
    "plt.plot(prediction[0], label=\"Prediction\") # График\n",
    "plt.plot(Y_test.iloc[0], label=\"Real\")\n",
    "plt.legend()\n",
    "mae = mean_absolute_error(prediction[0], Y_test.iloc[0])\n",
    "print(f\"MAE = {mae}\")"
   ]
  },
  {
   "cell_type": "code",
   "execution_count": 22,
   "metadata": {},
   "outputs": [],
   "source": [
    "ab_regressor = AdaBoostRegressor(random_state=42)"
   ]
  },
  {
   "cell_type": "code",
   "execution_count": 23,
   "metadata": {},
   "outputs": [
    {
     "ename": "ValueError",
     "evalue": "bad input shape (719, 7)",
     "output_type": "error",
     "traceback": [
      "\u001b[0;31m---------------------------------------------------------------------------\u001b[0m",
      "\u001b[0;31mValueError\u001b[0m                                Traceback (most recent call last)",
      "\u001b[0;32m<ipython-input-23-52cd25cc1669>\u001b[0m in \u001b[0;36m<module>\u001b[0;34m\u001b[0m\n\u001b[1;32m     10\u001b[0m     \u001b[0;31m# ignore all caught warnings\u001b[0m\u001b[0;34m\u001b[0m\u001b[0;34m\u001b[0m\u001b[0;34m\u001b[0m\u001b[0m\n\u001b[1;32m     11\u001b[0m     \u001b[0mwarnings\u001b[0m\u001b[0;34m.\u001b[0m\u001b[0mfilterwarnings\u001b[0m\u001b[0;34m(\u001b[0m\u001b[0;34m\"ignore\"\u001b[0m\u001b[0;34m)\u001b[0m\u001b[0;34m\u001b[0m\u001b[0;34m\u001b[0m\u001b[0m\n\u001b[0;32m---> 12\u001b[0;31m     \u001b[0mgrid_result\u001b[0m \u001b[0;34m=\u001b[0m \u001b[0mgrid\u001b[0m\u001b[0;34m.\u001b[0m\u001b[0mfit\u001b[0m\u001b[0;34m(\u001b[0m\u001b[0mX\u001b[0m\u001b[0;34m,\u001b[0m \u001b[0mY\u001b[0m\u001b[0;34m)\u001b[0m\u001b[0;34m\u001b[0m\u001b[0;34m\u001b[0m\u001b[0m\n\u001b[0m\u001b[1;32m     13\u001b[0m \u001b[0;34m\u001b[0m\u001b[0m\n\u001b[1;32m     14\u001b[0m \u001b[0md2\u001b[0m \u001b[0;34m=\u001b[0m \u001b[0mdatetime\u001b[0m\u001b[0;34m.\u001b[0m\u001b[0mnow\u001b[0m\u001b[0;34m(\u001b[0m\u001b[0;34m)\u001b[0m\u001b[0;34m\u001b[0m\u001b[0;34m\u001b[0m\u001b[0m\n",
      "\u001b[0;32m/usr/local/lib/python3.7/site-packages/sklearn/model_selection/_search.py\u001b[0m in \u001b[0;36mfit\u001b[0;34m(self, X, y, groups, **fit_params)\u001b[0m\n\u001b[1;32m    737\u001b[0m             \u001b[0mrefit_start_time\u001b[0m \u001b[0;34m=\u001b[0m \u001b[0mtime\u001b[0m\u001b[0;34m.\u001b[0m\u001b[0mtime\u001b[0m\u001b[0;34m(\u001b[0m\u001b[0;34m)\u001b[0m\u001b[0;34m\u001b[0m\u001b[0;34m\u001b[0m\u001b[0m\n\u001b[1;32m    738\u001b[0m             \u001b[0;32mif\u001b[0m \u001b[0my\u001b[0m \u001b[0;32mis\u001b[0m \u001b[0;32mnot\u001b[0m \u001b[0;32mNone\u001b[0m\u001b[0;34m:\u001b[0m\u001b[0;34m\u001b[0m\u001b[0;34m\u001b[0m\u001b[0m\n\u001b[0;32m--> 739\u001b[0;31m                 \u001b[0mself\u001b[0m\u001b[0;34m.\u001b[0m\u001b[0mbest_estimator_\u001b[0m\u001b[0;34m.\u001b[0m\u001b[0mfit\u001b[0m\u001b[0;34m(\u001b[0m\u001b[0mX\u001b[0m\u001b[0;34m,\u001b[0m \u001b[0my\u001b[0m\u001b[0;34m,\u001b[0m \u001b[0;34m**\u001b[0m\u001b[0mfit_params\u001b[0m\u001b[0;34m)\u001b[0m\u001b[0;34m\u001b[0m\u001b[0;34m\u001b[0m\u001b[0m\n\u001b[0m\u001b[1;32m    740\u001b[0m             \u001b[0;32melse\u001b[0m\u001b[0;34m:\u001b[0m\u001b[0;34m\u001b[0m\u001b[0;34m\u001b[0m\u001b[0m\n\u001b[1;32m    741\u001b[0m                 \u001b[0mself\u001b[0m\u001b[0;34m.\u001b[0m\u001b[0mbest_estimator_\u001b[0m\u001b[0;34m.\u001b[0m\u001b[0mfit\u001b[0m\u001b[0;34m(\u001b[0m\u001b[0mX\u001b[0m\u001b[0;34m,\u001b[0m \u001b[0;34m**\u001b[0m\u001b[0mfit_params\u001b[0m\u001b[0;34m)\u001b[0m\u001b[0;34m\u001b[0m\u001b[0;34m\u001b[0m\u001b[0m\n",
      "\u001b[0;32m/usr/local/lib/python3.7/site-packages/sklearn/ensemble/_weight_boosting.py\u001b[0m in \u001b[0;36mfit\u001b[0;34m(self, X, y, sample_weight)\u001b[0m\n\u001b[1;32m    992\u001b[0m \u001b[0;34m\u001b[0m\u001b[0m\n\u001b[1;32m    993\u001b[0m         \u001b[0;31m# Fit\u001b[0m\u001b[0;34m\u001b[0m\u001b[0;34m\u001b[0m\u001b[0;34m\u001b[0m\u001b[0m\n\u001b[0;32m--> 994\u001b[0;31m         \u001b[0;32mreturn\u001b[0m \u001b[0msuper\u001b[0m\u001b[0;34m(\u001b[0m\u001b[0;34m)\u001b[0m\u001b[0;34m.\u001b[0m\u001b[0mfit\u001b[0m\u001b[0;34m(\u001b[0m\u001b[0mX\u001b[0m\u001b[0;34m,\u001b[0m \u001b[0my\u001b[0m\u001b[0;34m,\u001b[0m \u001b[0msample_weight\u001b[0m\u001b[0;34m)\u001b[0m\u001b[0;34m\u001b[0m\u001b[0;34m\u001b[0m\u001b[0m\n\u001b[0m\u001b[1;32m    995\u001b[0m \u001b[0;34m\u001b[0m\u001b[0m\n\u001b[1;32m    996\u001b[0m     \u001b[0;32mdef\u001b[0m \u001b[0m_validate_estimator\u001b[0m\u001b[0;34m(\u001b[0m\u001b[0mself\u001b[0m\u001b[0;34m)\u001b[0m\u001b[0;34m:\u001b[0m\u001b[0;34m\u001b[0m\u001b[0;34m\u001b[0m\u001b[0m\n",
      "\u001b[0;32m/usr/local/lib/python3.7/site-packages/sklearn/ensemble/_weight_boosting.py\u001b[0m in \u001b[0;36mfit\u001b[0;34m(self, X, y, sample_weight)\u001b[0m\n\u001b[1;32m    117\u001b[0m             \u001b[0;32mraise\u001b[0m \u001b[0mValueError\u001b[0m\u001b[0;34m(\u001b[0m\u001b[0;34m\"learning_rate must be greater than zero\"\u001b[0m\u001b[0;34m)\u001b[0m\u001b[0;34m\u001b[0m\u001b[0;34m\u001b[0m\u001b[0m\n\u001b[1;32m    118\u001b[0m \u001b[0;34m\u001b[0m\u001b[0m\n\u001b[0;32m--> 119\u001b[0;31m         \u001b[0mX\u001b[0m\u001b[0;34m,\u001b[0m \u001b[0my\u001b[0m \u001b[0;34m=\u001b[0m \u001b[0mself\u001b[0m\u001b[0;34m.\u001b[0m\u001b[0m_validate_data\u001b[0m\u001b[0;34m(\u001b[0m\u001b[0mX\u001b[0m\u001b[0;34m,\u001b[0m \u001b[0my\u001b[0m\u001b[0;34m)\u001b[0m\u001b[0;34m\u001b[0m\u001b[0;34m\u001b[0m\u001b[0m\n\u001b[0m\u001b[1;32m    120\u001b[0m \u001b[0;34m\u001b[0m\u001b[0m\n\u001b[1;32m    121\u001b[0m         \u001b[0msample_weight\u001b[0m \u001b[0;34m=\u001b[0m \u001b[0m_check_sample_weight\u001b[0m\u001b[0;34m(\u001b[0m\u001b[0msample_weight\u001b[0m\u001b[0;34m,\u001b[0m \u001b[0mX\u001b[0m\u001b[0;34m,\u001b[0m \u001b[0mnp\u001b[0m\u001b[0;34m.\u001b[0m\u001b[0mfloat64\u001b[0m\u001b[0;34m)\u001b[0m\u001b[0;34m\u001b[0m\u001b[0;34m\u001b[0m\u001b[0m\n",
      "\u001b[0;32m/usr/local/lib/python3.7/site-packages/sklearn/ensemble/_weight_boosting.py\u001b[0m in \u001b[0;36m_validate_data\u001b[0;34m(self, X, y)\u001b[0m\n\u001b[1;32m     89\u001b[0m                             \u001b[0mallow_nd\u001b[0m\u001b[0;34m=\u001b[0m\u001b[0;32mTrue\u001b[0m\u001b[0;34m,\u001b[0m\u001b[0;34m\u001b[0m\u001b[0;34m\u001b[0m\u001b[0m\n\u001b[1;32m     90\u001b[0m                             \u001b[0mdtype\u001b[0m\u001b[0;34m=\u001b[0m\u001b[0;32mNone\u001b[0m\u001b[0;34m,\u001b[0m\u001b[0;34m\u001b[0m\u001b[0;34m\u001b[0m\u001b[0m\n\u001b[0;32m---> 91\u001b[0;31m                             y_numeric=is_regressor(self))\n\u001b[0m\u001b[1;32m     92\u001b[0m         \u001b[0;32mreturn\u001b[0m \u001b[0mret\u001b[0m\u001b[0;34m\u001b[0m\u001b[0;34m\u001b[0m\u001b[0m\n\u001b[1;32m     93\u001b[0m \u001b[0;34m\u001b[0m\u001b[0m\n",
      "\u001b[0;32m/usr/local/lib/python3.7/site-packages/sklearn/utils/validation.py\u001b[0m in \u001b[0;36mcheck_X_y\u001b[0;34m(X, y, accept_sparse, accept_large_sparse, dtype, order, copy, force_all_finite, ensure_2d, allow_nd, multi_output, ensure_min_samples, ensure_min_features, y_numeric, warn_on_dtype, estimator)\u001b[0m\n\u001b[1;32m    758\u001b[0m                         dtype=None)\n\u001b[1;32m    759\u001b[0m     \u001b[0;32melse\u001b[0m\u001b[0;34m:\u001b[0m\u001b[0;34m\u001b[0m\u001b[0;34m\u001b[0m\u001b[0m\n\u001b[0;32m--> 760\u001b[0;31m         \u001b[0my\u001b[0m \u001b[0;34m=\u001b[0m \u001b[0mcolumn_or_1d\u001b[0m\u001b[0;34m(\u001b[0m\u001b[0my\u001b[0m\u001b[0;34m,\u001b[0m \u001b[0mwarn\u001b[0m\u001b[0;34m=\u001b[0m\u001b[0;32mTrue\u001b[0m\u001b[0;34m)\u001b[0m\u001b[0;34m\u001b[0m\u001b[0;34m\u001b[0m\u001b[0m\n\u001b[0m\u001b[1;32m    761\u001b[0m         \u001b[0m_assert_all_finite\u001b[0m\u001b[0;34m(\u001b[0m\u001b[0my\u001b[0m\u001b[0;34m)\u001b[0m\u001b[0;34m\u001b[0m\u001b[0;34m\u001b[0m\u001b[0m\n\u001b[1;32m    762\u001b[0m     \u001b[0;32mif\u001b[0m \u001b[0my_numeric\u001b[0m \u001b[0;32mand\u001b[0m \u001b[0my\u001b[0m\u001b[0;34m.\u001b[0m\u001b[0mdtype\u001b[0m\u001b[0;34m.\u001b[0m\u001b[0mkind\u001b[0m \u001b[0;34m==\u001b[0m \u001b[0;34m'O'\u001b[0m\u001b[0;34m:\u001b[0m\u001b[0;34m\u001b[0m\u001b[0;34m\u001b[0m\u001b[0m\n",
      "\u001b[0;32m/usr/local/lib/python3.7/site-packages/sklearn/utils/validation.py\u001b[0m in \u001b[0;36mcolumn_or_1d\u001b[0;34m(y, warn)\u001b[0m\n\u001b[1;32m    795\u001b[0m         \u001b[0;32mreturn\u001b[0m \u001b[0mnp\u001b[0m\u001b[0;34m.\u001b[0m\u001b[0mravel\u001b[0m\u001b[0;34m(\u001b[0m\u001b[0my\u001b[0m\u001b[0;34m)\u001b[0m\u001b[0;34m\u001b[0m\u001b[0;34m\u001b[0m\u001b[0m\n\u001b[1;32m    796\u001b[0m \u001b[0;34m\u001b[0m\u001b[0m\n\u001b[0;32m--> 797\u001b[0;31m     \u001b[0;32mraise\u001b[0m \u001b[0mValueError\u001b[0m\u001b[0;34m(\u001b[0m\u001b[0;34m\"bad input shape {0}\"\u001b[0m\u001b[0;34m.\u001b[0m\u001b[0mformat\u001b[0m\u001b[0;34m(\u001b[0m\u001b[0mshape\u001b[0m\u001b[0;34m)\u001b[0m\u001b[0;34m)\u001b[0m\u001b[0;34m\u001b[0m\u001b[0;34m\u001b[0m\u001b[0m\n\u001b[0m\u001b[1;32m    798\u001b[0m \u001b[0;34m\u001b[0m\u001b[0m\n\u001b[1;32m    799\u001b[0m \u001b[0;34m\u001b[0m\u001b[0m\n",
      "\u001b[0;31mValueError\u001b[0m: bad input shape (719, 7)"
     ]
    }
   ],
   "source": [
    "# попробуем оптимизировать количество эстиматоров \n",
    "params = dict(\n",
    "    n_estimators=[x for x in range(5,151, 5)]\n",
    ")\n",
    "\n",
    "grid = GridSearchCV(estimator=ab_regressor, param_grid=params, cv=3, verbose=0)\n",
    "# посмотреть на время, которое потребуется для поиска оптимальных параметров\n",
    "d1 = datetime.now()\n",
    "with warnings.catch_warnings():\n",
    "    # ignore all caught warnings\n",
    "    warnings.filterwarnings(\"ignore\")\n",
    "    grid_result = grid.fit(X, Y)\n",
    "\n",
    "d2 = datetime.now()\n",
    "delta = d2 - d1\n",
    "print(\"fitting time - {} seconds\".format(delta.seconds))\n",
    "\n",
    "# вывод наиболее удачной комбинации параметров\n",
    "print(\"Best: %f using %s\" % (grid_result.best_score_, grid_result.best_params_))\n",
    "means = grid_result.cv_results_['mean_test_score']\n",
    "stds = grid_result.cv_results_['std_test_score']\n",
    "params = grid_result.cv_results_['params']\n",
    "for mean, stdev, param in zip(means, stds, params):\n",
    "    print(\"%f (%f) with: %r\" % (mean, stdev, param))\n",
    "    \n",
    "prediction = grid_result.predict(X_test) # Предсказания\n",
    "plt.plot(prediction[0], label=\"Prediction\") # График\n",
    "plt.plot(Y_test.iloc[0], label=\"Real\")\n",
    "plt.legend()\n",
    "mae = mean_absolute_error(prediction[0], Y_test.iloc[0])\n",
    "print(f\"MAE = {mae}\")"
   ]
  },
  {
   "cell_type": "code",
   "execution_count": null,
   "metadata": {},
   "outputs": [],
   "source": [
    "from sklearn.datasets import make_regression\n",
    "from sklearn.ensemble import GradientBoostingRegressor\n",
    "from sklearn.model_selection import train_test_split\n",
    "X_1, y_1 = make_regression(random_state=0)\n",
    "X_1_train, X_1_test, y_1_train, y_1_test = train_test_split(X_1, y_1, random_state=0)"
   ]
  },
  {
   "cell_type": "code",
   "execution_count": 28,
   "metadata": {},
   "outputs": [
    {
     "ename": "AttributeError",
     "evalue": "'numpy.ndarray' object has no attribute 'head'",
     "output_type": "error",
     "traceback": [
      "\u001b[0;31m---------------------------------------------------------------------------\u001b[0m",
      "\u001b[0;31mAttributeError\u001b[0m                            Traceback (most recent call last)",
      "\u001b[0;32m<ipython-input-28-73020798007e>\u001b[0m in \u001b[0;36m<module>\u001b[0;34m\u001b[0m\n\u001b[0;32m----> 1\u001b[0;31m \u001b[0mX_train\u001b[0m\u001b[0;34m.\u001b[0m\u001b[0mhead\u001b[0m\u001b[0;34m(\u001b[0m\u001b[0;34m)\u001b[0m\u001b[0;34m\u001b[0m\u001b[0;34m\u001b[0m\u001b[0m\n\u001b[0m",
      "\u001b[0;31mAttributeError\u001b[0m: 'numpy.ndarray' object has no attribute 'head'"
     ]
    }
   ],
   "source": [
    "X_train.head()"
   ]
  },
  {
   "cell_type": "code",
   "execution_count": 26,
   "metadata": {},
   "outputs": [
    {
     "data": {
      "text/plain": [
       "(100,)"
      ]
     },
     "execution_count": 26,
     "metadata": {},
     "output_type": "execute_result"
    }
   ],
   "source": [
    "y.shape"
   ]
  },
  {
   "cell_type": "code",
   "execution_count": null,
   "metadata": {},
   "outputs": [],
   "source": []
  }
 ],
 "metadata": {
  "kernelspec": {
   "display_name": "Python 3",
   "language": "python",
   "name": "python3"
  },
  "language_info": {
   "codemirror_mode": {
    "name": "ipython",
    "version": 3
   },
   "file_extension": ".py",
   "mimetype": "text/x-python",
   "name": "python",
   "nbconvert_exporter": "python",
   "pygments_lexer": "ipython3",
   "version": "3.7.7"
  }
 },
 "nbformat": 4,
 "nbformat_minor": 2
}
